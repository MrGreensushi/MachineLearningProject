{
 "cells": [
  {
   "cell_type": "markdown",
   "metadata": {
    "id": "Y7_rPHBS49qm"
   },
   "source": [
    "# Import Google Drive"
   ]
  },
  {
   "cell_type": "code",
   "execution_count": 1,
   "metadata": {
    "colab": {
     "base_uri": "https://localhost:8080/"
    },
    "executionInfo": {
     "elapsed": 31913,
     "status": "ok",
     "timestamp": 1677682484124,
     "user": {
      "displayName": "Hathi “danspi” Branco Wild",
      "userId": "03173318165689254341"
     },
     "user_tz": -60
    },
    "id": "FqMihrRrsdB8",
    "outputId": "6119ac87-b7c8-440c-859d-f914c50dcea2",
    "scrolled": true
   },
   "outputs": [],
   "source": [
    "#from google.colab import drive\n",
    "#drive.mount('/content/drive', force_remount=True)"
   ]
  },
  {
   "cell_type": "code",
   "execution_count": 2,
   "metadata": {
    "id": "nb_cpIAnvYt9"
   },
   "outputs": [],
   "source": [
    "#!unzip \"/content/drive/MyDrive/paris.zip\" -d \"/content/drive/MyDrive/Paris120x120/\"  > /dev/null"
   ]
  },
  {
   "cell_type": "markdown",
   "metadata": {
    "id": "Oziy1UvW7UPM"
   },
   "source": [
    "# Carica DataSet"
   ]
  },
  {
   "cell_type": "code",
   "execution_count": 3,
   "metadata": {},
   "outputs": [
    {
     "name": "stdout",
     "output_type": "stream",
     "text": [
      "groundtruth_dir:  D:\\Andrea\\Downloads\\gzp \n",
      "dataset_dir:  D:\\Andrea\\Downloads\\Paris120x120\n"
     ]
    }
   ],
   "source": [
    "import load_dataset\n",
    "user=\"Andrea\"\n",
    "\n",
    "load_dataset.set_user(user)\n",
    "groundtruth_dir, dataset_dir = load_dataset.get_dirs()"
   ]
  },
  {
   "cell_type": "code",
   "execution_count": 4,
   "metadata": {},
   "outputs": [
    {
     "name": "stdout",
     "output_type": "stream",
     "text": [
      "Numero di good:  0\n",
      "Numero di ok:  1790\n",
      "Numero di bad:  0\n",
      "Numero di junk:  1619\n"
     ]
    }
   ],
   "source": [
    "class_names = load_dataset.get_classnames()\n",
    "num_classes = len(class_names)\n",
    "input_shape = (128,128,3)\n",
    "\n",
    "dataset = load_dataset.get_dataset(groundtruth_dir, dataset_dir, class_names, input_shape)"
   ]
  },
  {
   "cell_type": "markdown",
   "metadata": {},
   "source": [
    "Funzioni per la stampa di statistiche sul DB"
   ]
  },
  {
   "cell_type": "code",
   "execution_count": 5,
   "metadata": {
    "colab": {
     "base_uri": "https://localhost:8080/"
    },
    "executionInfo": {
     "elapsed": 17,
     "status": "ok",
     "timestamp": 1677682632194,
     "user": {
      "displayName": "Hathi “danspi” Branco Wild",
      "userId": "03173318165689254341"
     },
     "user_tz": -60
    },
    "id": "EvuQ4lsS4B9O",
    "outputId": "0fb8851e-0a18-45d5-d0a5-6374f016dba9"
   },
   "outputs": [
    {
     "name": "stdout",
     "output_type": "stream",
     "text": [
      "Numero immagini del dataset:  2689\n",
      "Numero di immagini nei vari landmark:  [222. 129. 266. 248. 344.  90. 205. 319. 147. 279. 440.]\n",
      "Immagini good-ok-bad-junk:  [0, 1496, 0, 1193]\n",
      "Per ogni landmark, quanti sono quelli good, ok, bad e junk: [[0, 114, 0, 108], [0, 61, 0, 68], [0, 182, 0, 84], [0, 130, 0, 118], [0, 236, 0, 108], [0, 72, 0, 18], [0, 113, 0, 92], [0, 127, 0, 192], [0, 52, 0, 95], [0, 144, 0, 135], [0, 265, 0, 175]]\n"
     ]
    }
   ],
   "source": [
    "import print_functions as prt\n",
    "\n",
    "prt.print_dataset_stats(dataset)"
   ]
  },
  {
   "cell_type": "code",
   "execution_count": 6,
   "metadata": {},
   "outputs": [],
   "source": [
    "#prt.print_class_good_images(dataset,0) #stampa tutte le immagini good della classe 0"
   ]
  },
  {
   "cell_type": "markdown",
   "metadata": {
    "id": "663Kn89ArM2C"
   },
   "source": [
    "# Split dei dati in training, validation, test set"
   ]
  },
  {
   "cell_type": "code",
   "execution_count": 7,
   "metadata": {},
   "outputs": [],
   "source": [
    "import tensorflow as tf\n",
    "from tensorflow.keras import layers\n",
    "from tensorflow import keras\n",
    "import random"
   ]
  },
  {
   "cell_type": "markdown",
   "metadata": {},
   "source": [
    "Dataset Shuffle"
   ]
  },
  {
   "cell_type": "code",
   "execution_count": 8,
   "metadata": {},
   "outputs": [],
   "source": [
    "#load_dataset.shuffle(dataset)"
   ]
  },
  {
   "cell_type": "markdown",
   "metadata": {},
   "source": [
    "Dataset Split"
   ]
  },
  {
   "cell_type": "code",
   "execution_count": 9,
   "metadata": {
    "colab": {
     "base_uri": "https://localhost:8080/"
    },
    "executionInfo": {
     "elapsed": 15,
     "status": "ok",
     "timestamp": 1677682632195,
     "user": {
      "displayName": "Hathi “danspi” Branco Wild",
      "userId": "03173318165689254341"
     },
     "user_tz": -60
    },
    "id": "-lE3T_GsjbR8",
    "outputId": "59f96407-6767-4949-e74f-25180b24cb98"
   },
   "outputs": [
    {
     "name": "stdout",
     "output_type": "stream",
     "text": [
      "2151\n",
      "264\n",
      "274\n"
     ]
    }
   ],
   "source": [
    "# Da Dataset -> A X_train, X_val, X_test\n",
    "\n",
    "# per avere uno split equilibrato, esso avverrà secondo il seguente criterio:\n",
    "# il training set sarà formato, per ogni landmark, dall' 80% del totale delle\n",
    "# good per quel landmark + 80% del totale delle ok per quel landmark + ecc...\n",
    "# il test set e il validation set avranno il 10% a testa\n",
    "\n",
    "def split_dataset(dataset, x_train, x_val, x_test):\n",
    "\n",
    "  for i in range(len(dataset)):\n",
    "    for j in range(len(dataset[i])): \n",
    "      \n",
    "      num_samples = len(dataset[i][j])\n",
    "\n",
    "      train_len = round(0.8 * num_samples)\n",
    "      x_train[i][j] = x_train[i][j] + dataset[i][j][:train_len]\n",
    "      \n",
    "      val_len = (num_samples - train_len) // 2\n",
    "      x_val[i][j] = x_val[i][j] + dataset[i][j][train_len: train_len + val_len]\n",
    "\n",
    "      test_len = (num_samples - train_len - val_len)\n",
    "      x_test[i][j] = x_test[i][j] + dataset[i][j][-test_len:]\n",
    "\n",
    "  return;\n",
    "\n",
    "x_train = [ [[],[],[],[]] for x in range(len(class_names))]\n",
    "x_val = [ [[],[],[],[]] for x in range(len(class_names))]\n",
    "x_test = [ [[],[],[],[]] for x in range(len(class_names))]\n",
    "\n",
    "split_dataset(dataset, x_train, x_val, x_test)\n",
    "\n",
    "x_train_len = prt.dataset_len(x_train)\n",
    "x_val_len = prt.dataset_len(x_val)\n",
    "\n",
    "print(prt.dataset_len(x_train))\n",
    "print(prt.dataset_len(x_val))\n",
    "print(prt.dataset_len(x_test))"
   ]
  },
  {
   "cell_type": "markdown",
   "metadata": {
    "id": "F6rg72JV4uVX"
   },
   "source": [
    "# Data Augmentation"
   ]
  },
  {
   "cell_type": "markdown",
   "metadata": {},
   "source": [
    "Definizione degli ImageDataGenerator. Gli oggetti ImageDataGenerator definiscono le trasformazioni che si faranno.\n",
    "Chiamando flow(numpy_array_immagini) su ImageDataGenerator, flow restituirà un generatore di immagini transformate."
   ]
  },
  {
   "cell_type": "code",
   "execution_count": 10,
   "metadata": {},
   "outputs": [],
   "source": [
    "#oggetto ImageDataGenerator, definisce le trasformazioni\n",
    "gen_settings = keras.preprocessing.image.ImageDataGenerator(\n",
    "    rotation_range=60,\n",
    "    shear_range=0.1,\n",
    "    zoom_range=0.1,\n",
    "    horizontal_flip=False,  \n",
    "    vertical_flip=False,                     \n",
    "    rescale=None,\n",
    "    fill_mode='nearest'\n",
    ")\n",
    "\n",
    "#ImageDataGenerator senza trasformazioni per validation set\n",
    "test_val_settings = keras.preprocessing.image.ImageDataGenerator()"
   ]
  },
  {
   "cell_type": "markdown",
   "metadata": {},
   "source": [
    "Ora definiamo una classe custom che prende gli ImageDataGenerator del nostro dataset, e gli usa per creare un generatore di triplette."
   ]
  },
  {
   "cell_type": "code",
   "execution_count": 11,
   "metadata": {},
   "outputs": [],
   "source": [
    "class CustomDataGenerator(object):\n",
    "    \n",
    "    # parametro nel costruttore: dataset_generators. Ha la solita struttura [ [[good],[ok],[bad],[junk]],  [...], ...]\n",
    "    # però invece che avere le foto nei good, ok, ... ho un generatore per quella categoria che genera le trasformazioni\n",
    "    \n",
    "    def __init__(self, dataset_generators,batch_size) -> None:\n",
    "        self.dataset_generators = dataset_generators\n",
    "        self.batch_size=batch_size\n",
    "\n",
    "    def next_train(self):\n",
    "        current_class = -1\n",
    "        while 1:\n",
    "            anchors=[]\n",
    "            positives=[]\n",
    "            negatives=[]\n",
    "            for i in range(self.batch_size):\n",
    "                current_class = current_class+1\n",
    "                current_class = current_class % num_classes\n",
    "                \n",
    "                _anchor,_positive,_negative = retrieve_single_triplet(self,current_class)\n",
    "                anchors.append(_anchor)\n",
    "                positives.append(_positive)\n",
    "                negatives.append(_negative)\n",
    "            \n",
    "            anchors = tf.convert_to_tensor(anchors)\n",
    "            positives = tf.convert_to_tensor(positives)\n",
    "            negatives = tf.convert_to_tensor(negatives)\n",
    "\n",
    "            triplet = (anchors, positives, negatives)\n",
    "            yield(triplet)\n",
    "        \n",
    "def retrieve_single_triplet(self,current_class):\n",
    "    different_class = random.randint(0, num_classes-1)\n",
    "    \n",
    "    while(different_class == current_class):\n",
    "        different_class = random.randint(0, num_classes-1)  \n",
    "            \n",
    "    _anchor = next(self.dataset_generators[current_class][1])[0]\n",
    "    _positive = next(self.dataset_generators[current_class][1])[0]\n",
    "    _negative = next(self.dataset_generators[different_class][random.choice([1,3])])[0]    \n",
    "    return _anchor,_positive,_negative"
   ]
  },
  {
   "cell_type": "markdown",
   "metadata": {},
   "source": [
    "x_train, x_val, x_test sono strutture dati di immagini così disposte: [ [[good],[ok],[bad],[junk]],  [...], ...]\n",
    "Sostituiamo le immagini coi generatori creati a partire da quelle immagini."
   ]
  },
  {
   "cell_type": "code",
   "execution_count": 12,
   "metadata": {
    "scrolled": true
   },
   "outputs": [],
   "source": [
    "import numpy as np\n",
    "\n",
    "#x_train, x_val, x_test prima contenevano array di immagini. Ora contengono generatori separati per classe e qualità\n",
    "def transform_dataset(db, gen_settings):\n",
    "    ds = [ [[],[],[],[]] for x in range(len(class_names))]\n",
    "    for i in range(len(ds)):\n",
    "        for j in [1,3]: #abbiamo solo immagini ok e junk (1 e 3) nel database\n",
    "            generatore = gen_settings.flow(x=np.asarray(db[i][j]), batch_size=1) #batch size 1 per ritornare una sola img\n",
    "            ds[i][j] = generatore\n",
    "    return ds\n",
    "\n",
    "x_train_gen = transform_dataset(x_train, gen_settings)\n",
    "x_val_gen = transform_dataset(x_val, test_val_settings)\n",
    "#x_test = transform_dataset(x_test, test_val_settings)"
   ]
  },
  {
   "cell_type": "code",
   "execution_count": 13,
   "metadata": {},
   "outputs": [],
   "source": [
    "batch_size=128#26\n",
    "#Training generator\n",
    "custom_gen_train = CustomDataGenerator(x_train_gen,batch_size)\n",
    "generatore_triplete_train = custom_gen_train.next_train()\n",
    "\n",
    "#Validation generator\n",
    "custom_gen_val = CustomDataGenerator(x_val_gen,batch_size)\n",
    "generatore_triplete_val = custom_gen_val.next_train() "
   ]
  },
  {
   "cell_type": "code",
   "execution_count": 14,
   "metadata": {},
   "outputs": [],
   "source": [
    "#triplete_batch = next(generatore_triplete_train)\n",
    "\n",
    "#ancore = triplete_batch[0]\n",
    "#positivi = triplete_batch[1]\n",
    "#negativi = triplete_batch[2]\n",
    "\n",
    "#tripla1 = (ancore[0], positivi[0], negativi[0])\n",
    "#tripla2 = (ancore[1], positivi[1], negativi[1])\n",
    "#tripla3 = (ancore[2], positivi[2], negativi[2])\n",
    "\n",
    "#prt.stampa_tripletta(tripla1)\n",
    "#prt.stampa_tripletta(tripla2)\n",
    "#prt.stampa_tripletta(tripla3)"
   ]
  },
  {
   "cell_type": "markdown",
   "metadata": {
    "id": "GTfKkXSex5hY"
   },
   "source": [
    "# Definizione Modello Triple"
   ]
  },
  {
   "cell_type": "code",
   "execution_count": 15,
   "metadata": {
    "colab": {
     "base_uri": "https://localhost:8080/"
    },
    "executionInfo": {
     "elapsed": 317,
     "status": "ok",
     "timestamp": 1677683208972,
     "user": {
      "displayName": "Hathi “danspi” Branco Wild",
      "userId": "03173318165689254341"
     },
     "user_tz": -60
    },
    "id": "jPhBXKjtx_Ez",
    "outputId": "d5fd85c2-6080-4518-c49b-1a527036a068"
   },
   "outputs": [],
   "source": [
    "import tensorflow as tf\n",
    "from tensorflow.keras import layers\n",
    "from tensorflow.keras.applications import resnet\n",
    "#from tensorflow.keras.applications.resnet import preprocess_input\n",
    "from tensorflow.keras.applications import MobileNet\n",
    "from tensorflow.keras.applications import Xception\n",
    "from tensorflow.keras.applications.mobilenet import preprocess_input\n",
    "from tensorflow.keras.applications import inception_resnet_v2\n",
    "#from tensorflow.keras.applications.efficientnet import EfficientNetB7"
   ]
  },
  {
   "cell_type": "code",
   "execution_count": 16,
   "metadata": {
    "colab": {
     "base_uri": "https://localhost:8080/"
    },
    "executionInfo": {
     "elapsed": 4961,
     "status": "ok",
     "timestamp": 1677683214164,
     "user": {
      "displayName": "Hathi “danspi” Branco Wild",
      "userId": "03173318165689254341"
     },
     "user_tz": -60
    },
    "id": "LPb1dxnQlpKw",
    "outputId": "0eec6b29-94d6-447a-e338-664ebac8dbff"
   },
   "outputs": [],
   "source": [
    "def get_encoder (input_shape):\n",
    "    #base_cnn = resnet.ResNet50(\n",
    "    #base_cnn = resnet.ResNet101(\n",
    "    #base_cnn = resnet.ResNet152(\n",
    "    #base_cnn = inception_resnet_v2.InceptionResNetV2(\n",
    "    #base_cnn = EfficientNetB7(\n",
    "    #base_cnn = Xception(\n",
    "    base_cnn = MobileNet(\n",
    "        weights=\"imagenet\", input_shape=input_shape, include_top=False, pooling=\"max\")\n",
    "    \n",
    "    base_cnn.trainable = False\n",
    "        \n",
    "    encode_model = tf.keras.models.Sequential([\n",
    "        base_cnn,\n",
    "        layers.Flatten(),\n",
    "        layers.Dense(256)\n",
    "    ], name=\"Embedding\")\n",
    "    \n",
    "    return encode_model"
   ]
  },
  {
   "cell_type": "code",
   "execution_count": 17,
   "metadata": {},
   "outputs": [],
   "source": [
    "class DistanceLayer(layers.Layer):\n",
    "    #Layer responsabile per il calcolo della distanza gli encoding \"ancora-positivo\" e \"ancora-negativo\"\n",
    "    \n",
    "    def __init__(self, **kwargs):\n",
    "        super().__init__(**kwargs)\n",
    "\n",
    "    def call(self, anchor, positive, negative):\n",
    "        ap_distance = tf.reduce_sum(tf.square(anchor - positive), -1)\n",
    "        an_distance = tf.reduce_sum(tf.square(anchor - negative), -1)\n",
    "        return (ap_distance, an_distance)"
   ]
  },
  {
   "cell_type": "code",
   "execution_count": 18,
   "metadata": {
    "executionInfo": {
     "elapsed": 2477,
     "status": "ok",
     "timestamp": 1677683216639,
     "user": {
      "displayName": "Hathi “danspi” Branco Wild",
      "userId": "03173318165689254341"
     },
     "user_tz": -60
    },
    "id": "xLpYIIVB8umU"
   },
   "outputs": [],
   "source": [
    "def get_siamese_network (embedding_model, input_shape = (128,128,3)):\n",
    "    input_anchor = tf.keras.layers.Input(shape= input_shape)\n",
    "    input_positive = tf.keras.layers.Input(shape= input_shape)\n",
    "    input_negative = tf.keras.layers.Input(shape= input_shape)\n",
    "    \n",
    "    #MOBILE NET\n",
    "    embedding_anchor = embedding_model(preprocess_input(input_anchor))\n",
    "    embedding_positive = embedding_model(preprocess_input(input_positive))\n",
    "    embedding_negative = embedding_model(preprocess_input(input_negative))\n",
    "\n",
    "    distances = DistanceLayer()(\n",
    "    embedding_anchor ,\n",
    "    embedding_positive,\n",
    "    embedding_negative ,\n",
    "    )\n",
    "\n",
    "    siamese_network =  tf.keras.models.Model(\n",
    "    inputs=[input_anchor, input_positive, input_negative], outputs=distances\n",
    "    )\n",
    "    return siamese_network"
   ]
  },
  {
   "cell_type": "code",
   "execution_count": 19,
   "metadata": {
    "executionInfo": {
     "elapsed": 8,
     "status": "ok",
     "timestamp": 1677683216640,
     "user": {
      "displayName": "Hathi “danspi” Branco Wild",
      "userId": "03173318165689254341"
     },
     "user_tz": -60
    },
    "id": "QiNCCICl-TSs"
   },
   "outputs": [],
   "source": [
    "class SiameseModel(tf.keras.models.Model):\n",
    "    # Modello siamese con training loop custom. Codice per il calcolo del triplet loss\n",
    "    # L(A, P, N) = max(‖f(A) - f(P)‖² - ‖f(A) - f(N)‖² + margin, 0)\n",
    "\n",
    "\n",
    "    def __init__(self, siamese_network, margin=0.5):\n",
    "        super().__init__()\n",
    "        self.siamese_network = siamese_network\n",
    "        self.margin = margin\n",
    "        self.loss_tracker = tf.keras.metrics.Mean(name=\"loss\")\n",
    "        self.acc_tracker =tf.keras.metrics.BinaryAccuracy(name =\"accuracy\")\n",
    "\n",
    "    def call(self, inputs):\n",
    "        return self.siamese_network(inputs)\n",
    "\n",
    "    def train_step(self, data):\n",
    "        with tf.GradientTape() as tape:\n",
    "            loss,acc = self._compute_loss(data)\n",
    "            \n",
    "        gradients = tape.gradient(loss, self.siamese_network.trainable_weights)\n",
    "        self.optimizer.apply_gradients(\n",
    "            zip(gradients, self.siamese_network.trainable_weights)\n",
    "        )\n",
    "        \n",
    "        self.loss_tracker.update_state(loss)\n",
    "        self.acc_tracker.update_state((acc|True),acc)\n",
    "        return {\"loss\": self.loss_tracker.result(),\"acc\": self.acc_tracker.result()}\n",
    "\n",
    "    def test_step(self, data):\n",
    "        loss,acc = self._compute_loss(data)\n",
    "        \n",
    "        self.loss_tracker.update_state(loss)\n",
    "        self.acc_tracker.update_state((acc|True),acc)\n",
    "        return {\"loss\": self.loss_tracker.result(),\"acc\": self.acc_tracker.result()}\n",
    "\n",
    "    def _compute_loss(self, data):\n",
    "        ap_distance, an_distance = self.siamese_network(data)\n",
    "\n",
    "        loss = ap_distance - an_distance\n",
    "        loss = tf.maximum(loss + self.margin, 0.0)\n",
    "        return loss, (ap_distance<an_distance)\n",
    "    @property\n",
    "    def metrics(self):\n",
    "        return [self.loss_tracker,self.acc_tracker]"
   ]
  },
  {
   "cell_type": "code",
   "execution_count": 20,
   "metadata": {},
   "outputs": [],
   "source": [
    "lr=0.00100\n",
    "PATIENCE_END=30\n",
    "PATIENCE_REDUCE=8\n",
    "COOLDOWN=3\n",
    "VERBOSE=1\n",
    "EPOCHS=100\n",
    "\n",
    "NAME=f\"BUILDFINALE_Xception_{lr}_Run2_{EPOCHS}Epochs_Reduce{PATIENCE_REDUCE}_End{PATIENCE_END}\""
   ]
  },
  {
   "cell_type": "code",
   "execution_count": 21,
   "metadata": {},
   "outputs": [],
   "source": [
    "encoder = get_encoder(input_shape)\n",
    "siamese_network = get_siamese_network(encoder)  \n",
    "siamese_model = SiameseModel(siamese_network)\n",
    "siamese_model.compile(optimizer=tf.keras.optimizers.Adam(lr), weighted_metrics=[])"
   ]
  },
  {
   "cell_type": "code",
   "execution_count": 23,
   "metadata": {
    "colab": {
     "base_uri": "https://localhost:8080/"
    },
    "executionInfo": {
     "elapsed": 3217700,
     "status": "ok",
     "timestamp": 1677686434335,
     "user": {
      "displayName": "Hathi “danspi” Branco Wild",
      "userId": "03173318165689254341"
     },
     "user_tz": -60
    },
    "id": "PQeFNZa3-fJQ",
    "outputId": "d12c0e71-9968-4c0c-dee9-9f57da6683ad",
    "scrolled": false,
    "slideshow": {
     "slide_type": "-"
    }
   },
   "outputs": [
    {
     "name": "stdout",
     "output_type": "stream",
     "text": [
      "Epoch 1/100\n",
      "16/16 [==============================] - 161s 10s/step - loss: 0.4710 - acc: 0.5871 - val_loss: 0.3934 - val_acc: 0.7031 - lr: 0.0010\n",
      "Epoch 2/100\n",
      "16/16 [==============================] - 146s 10s/step - loss: 0.4303 - acc: 0.6234 - val_loss: 0.3982 - val_acc: 0.6523 - lr: 0.0010\n",
      "Epoch 3/100\n",
      "16/16 [==============================] - 152s 10s/step - loss: 0.4120 - acc: 0.6303 - val_loss: 0.3843 - val_acc: 0.6562 - lr: 0.0010\n",
      "Epoch 4/100\n",
      "16/16 [==============================] - 157s 10s/step - loss: 0.4009 - acc: 0.6612 - val_loss: 0.3738 - val_acc: 0.7031 - lr: 0.0010\n",
      "Epoch 5/100\n",
      "16/16 [==============================] - 149s 10s/step - loss: 0.3867 - acc: 0.6576 - val_loss: 0.3651 - val_acc: 0.6758 - lr: 0.0010\n",
      "Epoch 6/100\n",
      "16/16 [==============================] - 141s 9s/step - loss: 0.3967 - acc: 0.6622 - val_loss: 0.3428 - val_acc: 0.6953 - lr: 0.0010\n",
      "Epoch 7/100\n",
      "16/16 [==============================] - 149s 9s/step - loss: 0.3899 - acc: 0.6548 - val_loss: 0.3117 - val_acc: 0.7656 - lr: 0.0010\n",
      "Epoch 8/100\n",
      "16/16 [==============================] - 148s 9s/step - loss: 0.3665 - acc: 0.6861 - val_loss: 0.3382 - val_acc: 0.7227 - lr: 0.0010\n",
      "Epoch 9/100\n",
      "16/16 [==============================] - 155s 10s/step - loss: 0.3614 - acc: 0.6913 - val_loss: 0.3229 - val_acc: 0.7461 - lr: 0.0010\n",
      "Epoch 10/100\n",
      "16/16 [==============================] - 141s 9s/step - loss: 0.3570 - acc: 0.6951 - val_loss: 0.3454 - val_acc: 0.7031 - lr: 0.0010\n",
      "Epoch 11/100\n",
      "16/16 [==============================] - 149s 9s/step - loss: 0.3673 - acc: 0.6773 - val_loss: 0.3164 - val_acc: 0.7031 - lr: 0.0010\n",
      "Epoch 12/100\n",
      "16/16 [==============================] - 150s 9s/step - loss: 0.3541 - acc: 0.6892 - val_loss: 0.3323 - val_acc: 0.7344 - lr: 0.0010\n",
      "Epoch 13/100\n",
      "16/16 [==============================] - 155s 10s/step - loss: 0.3505 - acc: 0.7176 - val_loss: 0.2775 - val_acc: 0.7656 - lr: 0.0010\n",
      "Epoch 14/100\n",
      "16/16 [==============================] - 148s 9s/step - loss: 0.3560 - acc: 0.7062 - val_loss: 0.3443 - val_acc: 0.7344 - lr: 0.0010\n",
      "Epoch 15/100\n",
      "16/16 [==============================] - 149s 9s/step - loss: 0.3581 - acc: 0.6979 - val_loss: 0.2983 - val_acc: 0.7422 - lr: 0.0010\n",
      "Epoch 16/100\n",
      "16/16 [==============================] - 154s 10s/step - loss: 0.3424 - acc: 0.6893 - val_loss: 0.3496 - val_acc: 0.6602 - lr: 0.0010\n",
      "Epoch 17/100\n",
      "16/16 [==============================] - 152s 10s/step - loss: 0.3399 - acc: 0.7099 - val_loss: 0.3089 - val_acc: 0.7617 - lr: 0.0010\n",
      "Epoch 18/100\n",
      "16/16 [==============================] - 159s 10s/step - loss: 0.3546 - acc: 0.6820 - val_loss: 0.3038 - val_acc: 0.7734 - lr: 0.0010\n",
      "Epoch 19/100\n",
      "16/16 [==============================] - 159s 10s/step - loss: 0.3440 - acc: 0.7265 - val_loss: 0.3409 - val_acc: 0.7148 - lr: 0.0010\n",
      "Epoch 20/100\n",
      "16/16 [==============================] - 161s 10s/step - loss: 0.3355 - acc: 0.7307 - val_loss: 0.3267 - val_acc: 0.7148 - lr: 0.0010\n",
      "Epoch 21/100\n",
      "16/16 [==============================] - ETA: 0s - loss: 0.3430 - acc: 0.7046\n",
      "Epoch 21: ReduceLROnPlateau reducing learning rate to 0.0005000000237487257.\n",
      "16/16 [==============================] - 161s 10s/step - loss: 0.3430 - acc: 0.7047 - val_loss: 0.2816 - val_acc: 0.7461 - lr: 0.0010\n",
      "Epoch 22/100\n",
      "16/16 [==============================] - 157s 10s/step - loss: 0.3407 - acc: 0.7146 - val_loss: 0.2903 - val_acc: 0.7422 - lr: 5.0000e-04\n",
      "Epoch 23/100\n",
      "16/16 [==============================] - 160s 10s/step - loss: 0.3322 - acc: 0.7081 - val_loss: 0.3023 - val_acc: 0.7539 - lr: 5.0000e-04\n",
      "Epoch 24/100\n",
      "16/16 [==============================] - 165s 10s/step - loss: 0.3311 - acc: 0.7158 - val_loss: 0.3008 - val_acc: 0.7656 - lr: 5.0000e-04\n",
      "Epoch 25/100\n",
      "16/16 [==============================] - 160s 10s/step - loss: 0.3255 - acc: 0.7309 - val_loss: 0.3016 - val_acc: 0.7539 - lr: 5.0000e-04\n",
      "Epoch 26/100\n",
      "16/16 [==============================] - 159s 10s/step - loss: 0.3126 - acc: 0.7391 - val_loss: 0.3181 - val_acc: 0.7148 - lr: 5.0000e-04\n",
      "Epoch 27/100\n",
      "16/16 [==============================] - 173s 11s/step - loss: 0.3338 - acc: 0.7249 - val_loss: 0.3272 - val_acc: 0.7344 - lr: 5.0000e-04\n",
      "Epoch 28/100\n",
      "16/16 [==============================] - 138s 9s/step - loss: 0.3331 - acc: 0.7286 - val_loss: 0.2931 - val_acc: 0.7383 - lr: 5.0000e-04\n",
      "Epoch 29/100\n",
      "16/16 [==============================] - 141s 9s/step - loss: 0.3299 - acc: 0.7248 - val_loss: 0.2820 - val_acc: 0.7539 - lr: 5.0000e-04\n",
      "Epoch 30/100\n",
      "16/16 [==============================] - 142s 9s/step - loss: 0.3199 - acc: 0.7332 - val_loss: 0.2950 - val_acc: 0.7578 - lr: 5.0000e-04\n",
      "Epoch 31/100\n",
      "16/16 [==============================] - ETA: 0s - loss: 0.3367 - acc: 0.7149\n",
      "Epoch 31: ReduceLROnPlateau reducing learning rate to 0.0002500000118743628.\n",
      "16/16 [==============================] - 149s 9s/step - loss: 0.3367 - acc: 0.7148 - val_loss: 0.2721 - val_acc: 0.7617 - lr: 5.0000e-04\n",
      "Epoch 32/100\n",
      "16/16 [==============================] - 135s 9s/step - loss: 0.3232 - acc: 0.7342 - val_loss: 0.2909 - val_acc: 0.7461 - lr: 2.5000e-04\n",
      "Epoch 33/100\n",
      "16/16 [==============================] - 147s 9s/step - loss: 0.3294 - acc: 0.7192 - val_loss: 0.2989 - val_acc: 0.7461 - lr: 2.5000e-04\n",
      "Epoch 34/100\n",
      "16/16 [==============================] - 149s 9s/step - loss: 0.3267 - acc: 0.7250 - val_loss: 0.2757 - val_acc: 0.7773 - lr: 2.5000e-04\n",
      "Epoch 35/100\n",
      "16/16 [==============================] - 150s 9s/step - loss: 0.3370 - acc: 0.7029 - val_loss: 0.2584 - val_acc: 0.7773 - lr: 2.5000e-04\n",
      "Epoch 36/100\n",
      "16/16 [==============================] - 158s 10s/step - loss: 0.3306 - acc: 0.7068 - val_loss: 0.2837 - val_acc: 0.7617 - lr: 2.5000e-04\n",
      "Epoch 37/100\n",
      "16/16 [==============================] - 144s 10s/step - loss: 0.3315 - acc: 0.7155 - val_loss: 0.3004 - val_acc: 0.7422 - lr: 2.5000e-04\n",
      "Epoch 38/100\n",
      "16/16 [==============================] - 141s 9s/step - loss: 0.3284 - acc: 0.7031 - val_loss: 0.2870 - val_acc: 0.7734 - lr: 2.5000e-04\n",
      "Epoch 39/100\n",
      "16/16 [==============================] - 140s 9s/step - loss: 0.3275 - acc: 0.7122 - val_loss: 0.3090 - val_acc: 0.7266 - lr: 2.5000e-04\n",
      "Epoch 40/100\n",
      "16/16 [==============================] - 150s 10s/step - loss: 0.3181 - acc: 0.7365 - val_loss: 0.3294 - val_acc: 0.7070 - lr: 2.5000e-04\n",
      "Epoch 41/100\n",
      "16/16 [==============================] - 132s 9s/step - loss: 0.3240 - acc: 0.7388 - val_loss: 0.2933 - val_acc: 0.7578 - lr: 2.5000e-04\n",
      "Epoch 42/100\n",
      "16/16 [==============================] - 142s 9s/step - loss: 0.3244 - acc: 0.7381 - val_loss: 0.3136 - val_acc: 0.7227 - lr: 2.5000e-04\n",
      "Epoch 43/100\n",
      "16/16 [==============================] - ETA: 0s - loss: 0.3261 - acc: 0.7184\n",
      "Epoch 43: ReduceLROnPlateau reducing learning rate to 0.0001250000059371814.\n",
      "16/16 [==============================] - 145s 9s/step - loss: 0.3261 - acc: 0.7183 - val_loss: 0.3237 - val_acc: 0.7148 - lr: 2.5000e-04\n",
      "Epoch 44/100\n",
      "16/16 [==============================] - 142s 9s/step - loss: 0.3213 - acc: 0.7335 - val_loss: 0.3077 - val_acc: 0.7305 - lr: 1.2500e-04\n",
      "Epoch 45/100\n",
      "16/16 [==============================] - 145s 9s/step - loss: 0.3279 - acc: 0.7162 - val_loss: 0.3269 - val_acc: 0.7500 - lr: 1.2500e-04\n",
      "Epoch 46/100\n",
      "16/16 [==============================] - 154s 10s/step - loss: 0.3253 - acc: 0.7353 - val_loss: 0.3256 - val_acc: 0.7305 - lr: 1.2500e-04\n",
      "Epoch 47/100\n",
      "16/16 [==============================] - 156s 10s/step - loss: 0.3196 - acc: 0.7188 - val_loss: 0.2715 - val_acc: 0.7734 - lr: 1.2500e-04\n",
      "Epoch 48/100\n",
      "16/16 [==============================] - 151s 9s/step - loss: 0.3221 - acc: 0.7296 - val_loss: 0.3142 - val_acc: 0.7305 - lr: 1.2500e-04\n",
      "Epoch 49/100\n",
      "16/16 [==============================] - 145s 9s/step - loss: 0.3307 - acc: 0.7274 - val_loss: 0.3402 - val_acc: 0.6992 - lr: 1.2500e-04\n",
      "Epoch 50/100\n",
      "16/16 [==============================] - 143s 9s/step - loss: 0.3197 - acc: 0.7327 - val_loss: 0.3167 - val_acc: 0.7188 - lr: 1.2500e-04\n",
      "Epoch 51/100\n",
      "16/16 [==============================] - 149s 9s/step - loss: 0.3309 - acc: 0.7220 - val_loss: 0.2685 - val_acc: 0.7578 - lr: 1.2500e-04\n",
      "Epoch 52/100\n",
      "16/16 [==============================] - 151s 10s/step - loss: 0.3238 - acc: 0.7376 - val_loss: 0.3068 - val_acc: 0.7422 - lr: 1.2500e-04\n"
     ]
    },
    {
     "name": "stdout",
     "output_type": "stream",
     "text": [
      "Epoch 53/100\n",
      "16/16 [==============================] - ETA: 0s - loss: 0.3135 - acc: 0.7477\n",
      "Epoch 53: ReduceLROnPlateau reducing learning rate to 6.25000029685907e-05.\n",
      "16/16 [==============================] - 147s 9s/step - loss: 0.3135 - acc: 0.7475 - val_loss: 0.2849 - val_acc: 0.7617 - lr: 1.2500e-04\n",
      "Epoch 54/100\n",
      "16/16 [==============================] - 147s 9s/step - loss: 0.3183 - acc: 0.7307 - val_loss: 0.3041 - val_acc: 0.7344 - lr: 6.2500e-05\n",
      "Epoch 55/100\n",
      "16/16 [==============================] - 157s 10s/step - loss: 0.3183 - acc: 0.7302 - val_loss: 0.2665 - val_acc: 0.7969 - lr: 6.2500e-05\n",
      "Epoch 56/100\n",
      "16/16 [==============================] - 152s 10s/step - loss: 0.3081 - acc: 0.7480 - val_loss: 0.2872 - val_acc: 0.7773 - lr: 6.2500e-05\n",
      "Epoch 57/100\n",
      "16/16 [==============================] - 150s 10s/step - loss: 0.3062 - acc: 0.7414 - val_loss: 0.2802 - val_acc: 0.7422 - lr: 6.2500e-05\n",
      "Epoch 58/100\n",
      "16/16 [==============================] - 151s 10s/step - loss: 0.3118 - acc: 0.7381 - val_loss: 0.3213 - val_acc: 0.7109 - lr: 6.2500e-05\n",
      "Epoch 59/100\n",
      "16/16 [==============================] - 145s 9s/step - loss: 0.3189 - acc: 0.7088 - val_loss: 0.2846 - val_acc: 0.7852 - lr: 6.2500e-05\n",
      "Epoch 60/100\n",
      "16/16 [==============================] - 140s 9s/step - loss: 0.3278 - acc: 0.7087 - val_loss: 0.3024 - val_acc: 0.7656 - lr: 6.2500e-05\n",
      "Epoch 61/100\n",
      "16/16 [==============================] - 141s 9s/step - loss: 0.3215 - acc: 0.7424 - val_loss: 0.3014 - val_acc: 0.7461 - lr: 6.2500e-05\n",
      "Epoch 62/100\n",
      "16/16 [==============================] - 140s 9s/step - loss: 0.3188 - acc: 0.7302 - val_loss: 0.2918 - val_acc: 0.7578 - lr: 6.2500e-05\n",
      "Epoch 63/100\n",
      "16/16 [==============================] - ETA: 0s - loss: 0.3165 - acc: 0.7299\n",
      "Epoch 63: ReduceLROnPlateau reducing learning rate to 3.125000148429535e-05.\n",
      "16/16 [==============================] - 140s 9s/step - loss: 0.3165 - acc: 0.7299 - val_loss: 0.3160 - val_acc: 0.7227 - lr: 6.2500e-05\n",
      "Epoch 64/100\n",
      "16/16 [==============================] - 144s 9s/step - loss: 0.3182 - acc: 0.7183 - val_loss: 0.3041 - val_acc: 0.7266 - lr: 3.1250e-05\n",
      "Epoch 65/100\n",
      "16/16 [==============================] - 158s 10s/step - loss: 0.3088 - acc: 0.7545 - val_loss: 0.3297 - val_acc: 0.7266 - lr: 3.1250e-05\n"
     ]
    }
   ],
   "source": [
    "early_stopping = tf.keras.callbacks.EarlyStopping(monitor='val_loss',\n",
    "                                                    patience=PATIENCE_END,\n",
    "                                                    mode='min',\n",
    "                                                    restore_best_weights='val_loss')\n",
    "\n",
    "reduce_lr=tf.keras.callbacks.ReduceLROnPlateau(monitor='val_loss',\n",
    "                                               factor=0.5,\n",
    "                                               patience=PATIENCE_REDUCE,\n",
    "                                               verbose=VERBOSE,\n",
    "                                               mode='auto',\n",
    "                                               min_delta=0.01,\n",
    "                                               cooldown=COOLDOWN,\n",
    "                                               min_lr=1e-6\n",
    "                                              )\n",
    "tensorboard_callback = tf.keras.callbacks.TensorBoard(log_dir=f\"./logs/{NAME}\")\n",
    "\n",
    "# siccome uso un generator, la dimensione del dataset diventa potenzialmente infinita\n",
    "# devo definire a quanti batch corrisponde un'epoca -> steps per epoch, validation steps\n",
    "steps_train=int( x_train_len/batch_size )\n",
    "steps_val=int(x_val_len/batch_size)\n",
    "\n",
    "history = siamese_model.fit(\n",
    "    generatore_triplete_train,\n",
    "    steps_per_epoch=steps_train,\n",
    "    batch_size=batch_size,\n",
    "    epochs=EPOCHS,\n",
    "    verbose=1,\n",
    "    validation_data=generatore_triplete_val,\n",
    "    validation_steps=steps_val,\n",
    "    callbacks=[early_stopping,reduce_lr,tensorboard_callback]\n",
    ")"
   ]
  },
  {
   "cell_type": "code",
   "execution_count": 24,
   "metadata": {
    "colab": {
     "base_uri": "https://localhost:8080/",
     "height": 524
    },
    "executionInfo": {
     "elapsed": 5962,
     "status": "ok",
     "timestamp": 1677686440291,
     "user": {
      "displayName": "Hathi “danspi” Branco Wild",
      "userId": "03173318165689254341"
     },
     "user_tz": -60
    },
    "id": "3-V2JF8uwJjE",
    "outputId": "ef42d28c-f71b-4cc0-b6ca-e3ac7a092d78"
   },
   "outputs": [
    {
     "data": {
      "image/png": "[encoded data removed]",
      "text/plain": [
       "<Figure size 640x480 with 1 Axes>"
      ]
     },
     "metadata": {},
     "output_type": "display_data"
    }
   ],
   "source": [
    "import matplotlib.pyplot as plt\n",
    "\n",
    "plt.plot(history.history['acc'])\n",
    "plt.plot(history.history['val_acc'])\n",
    "plt.plot(history.history['loss'])\n",
    "plt.plot(history.history['val_loss'])\n",
    "plt.title('model accuracy & loss')\n",
    "plt.ylabel('accuracy & loss')\n",
    "plt.xlabel('epoch')\n",
    "plt.legend(['acc train', 'acc val', 'loss train','loss val'], loc='upper left')\n",
    "plt.show()"
   ]
  },
  {
   "cell_type": "markdown",
   "metadata": {},
   "source": [
    "# Usare il Modello Allenato"
   ]
  },
  {
   "cell_type": "code",
   "execution_count": 33,
   "metadata": {},
   "outputs": [],
   "source": [
    "def get_encoder_with_weights(model, input_shape):\n",
    "    encoder=get_encoder(input_shape)\n",
    "    i=0\n",
    "    for e_layer in model.layers[0].layers[9].layers:\n",
    "        layer_weight= e_layer.get_weights()\n",
    "        encoder.layers[i].set_weights(layer_weight)\n",
    "        i+=1\n",
    "    return encoder"
   ]
  },
  {
   "cell_type": "markdown",
   "metadata": {},
   "source": [
    "Runnare questa cella solo se non si ha il modello \"encoder\" salvato"
   ]
  },
  {
   "cell_type": "code",
   "execution_count": 34,
   "metadata": {
    "colab": {
     "base_uri": "https://localhost:8080/"
    },
    "executionInfo": {
     "elapsed": 15,
     "status": "ok",
     "timestamp": 1677686440293,
     "user": {
      "displayName": "Hathi “danspi” Branco Wild",
      "userId": "03173318165689254341"
     },
     "user_tz": -60
    },
    "id": "zq3i8cK5TL-d",
    "outputId": "39cab78b-8789-49ff-8c6f-6eda0fe21c8f"
   },
   "outputs": [],
   "source": [
    "encoder = get_encoder_with_weights(siamese_model, input_shape)"
   ]
  },
  {
   "cell_type": "markdown",
   "metadata": {
    "colab": {
     "base_uri": "https://localhost:8080/"
    },
    "id": "DGljr94hSLhu",
    "outputId": "3850ea9e-1154-45e8-a58e-3c7efb68c0f0"
   },
   "source": [
    "Runnare questa cella solo se si sono già calcolati i pesi per il modello \"encoder\""
   ]
  },
  {
   "cell_type": "code",
   "execution_count": 58,
   "metadata": {},
   "outputs": [
    {
     "data": {
      "text/plain": [
       "<tensorflow.python.training.tracking.util.CheckpointLoadStatus at 0x1c0730ca7f0>"
      ]
     },
     "execution_count": 58,
     "metadata": {},
     "output_type": "execute_result"
    }
   ],
   "source": [
    "encoder=get_encoder(input_shape)\n",
    "encoder.load_weights(\"BUILDFINALE_MobileNet_0.001_Run2_100Epochs_Reduce8_End30\")"
   ]
  },
  {
   "cell_type": "markdown",
   "metadata": {},
   "source": [
    "Funzioni per cambiare la rappresentazione da [[ [good], [ok], [bad], [junk] ],[...], ...] ad un vettore normale + vettore di label y."
   ]
  },
  {
   "cell_type": "code",
   "execution_count": 35,
   "metadata": {},
   "outputs": [],
   "source": [
    "#prende tutte le immagini good e ok da data e le mette in un array arr, con le immagini ordinate per classe crescente\n",
    "def to_array(data):\n",
    "    arr=[]\n",
    "    for index in range(num_classes):\n",
    "        arr.extend(data[index][0]) #prendo le immagini good della classe index, e le appendo in arr\n",
    "        arr.extend(data[index][1]) #prendo le immagini ok della classe index, e le appendo in arr\n",
    "    print(\"Data transformed into array\")\n",
    "    return arr\n",
    "\n",
    "#array che segna dove finiscono in arr le immagini della classe i-esima\n",
    "def get_levels(data):\n",
    "    y_levels=[]\n",
    "    previous = 0\n",
    "    for index in range(num_classes):\n",
    "        i_class_len = len(data[index][0])+len(data[index][1])\n",
    "        y_levels.append(previous+i_class_len)\n",
    "        previous = previous + i_class_len\n",
    "    return y_levels\n",
    "\n",
    "#ritorna il vettore y di label(le classi) a partire da un y_level\n",
    "def get_y(y_levels):\n",
    "    tot = y_levels[-1]\n",
    "    y = [np.zeros(num_classes) for i in range(tot)]\n",
    "    class_index = 0\n",
    "    \n",
    "    for i in range(tot):\n",
    "        while i >= y_levels[class_index]:\n",
    "            class_index = class_index + 1\n",
    "        y[i][class_index] = 1\n",
    "    return y\n",
    "\n",
    "def produce_encodings(x, encoder):\n",
    "    dt = tf.data.Dataset.from_tensor_slices(x)\n",
    "    dt = dt.batch(1,drop_remainder=False)\n",
    "    print(\"Encoding data...\")\n",
    "    return encoder.predict(dt)"
   ]
  },
  {
   "cell_type": "markdown",
   "metadata": {},
   "source": [
    "Passo le immagini di training attraverso l'encoder e produco un encoding delle immagini di training"
   ]
  },
  {
   "cell_type": "code",
   "execution_count": 36,
   "metadata": {},
   "outputs": [
    {
     "name": "stdout",
     "output_type": "stream",
     "text": [
      "Data transformed into array\n",
      "Encoding data...\n"
     ]
    }
   ],
   "source": [
    "y_train_levels = get_levels(x_train)\n",
    "x_train_array = to_array(x_train)\n",
    "x_train_encoded = produce_encodings(x_train_array, encoder)"
   ]
  },
  {
   "cell_type": "markdown",
   "metadata": {},
   "source": [
    "Passo le immagini di test attraverso l'encoder e produco un encoding delle immagini di test"
   ]
  },
  {
   "cell_type": "code",
   "execution_count": 37,
   "metadata": {},
   "outputs": [
    {
     "name": "stdout",
     "output_type": "stream",
     "text": [
      "Data transformed into array\n",
      "Encoding data...\n"
     ]
    }
   ],
   "source": [
    "y_test_levels = get_levels(x_test)\n",
    "x_test_array = to_array(x_test)\n",
    "x_test_encoded = produce_encodings(x_test_array, encoder)"
   ]
  },
  {
   "cell_type": "markdown",
   "metadata": {},
   "source": [
    "Per ogni immagine di test, ottengo un vettore con le probabilità che appartenga ad una certa classe (come il layer softmax)"
   ]
  },
  {
   "cell_type": "code",
   "execution_count": 38,
   "metadata": {
    "scrolled": false
   },
   "outputs": [],
   "source": [
    "def get_predizioni(x_train_encoded, x_test_encoded, y_train_levels):\n",
    "    predizioni = []\n",
    "    for i in range(len(x_test_encoded)):\n",
    "        distances = tf.reduce_sum(tf.square(x_train_encoded - x_test_encoded[i]), -1)\n",
    "\n",
    "        x = []  \n",
    "        for index in range(num_classes):\n",
    "            if index==0:\n",
    "                diClasse=distances[0:y_train_levels[index]]\n",
    "            else:\n",
    "                diClasse=distances[y_train_levels[index-1]:y_train_levels[index]]\n",
    "            x.append( tf.math.reduce_min(diClasse) )\n",
    "        #distribution = tf.nn.softmax(x)\n",
    "        #distribution = tf.negative(distribution)\n",
    "        distribution = list(map(lambda t: -t.numpy(),x))\n",
    "        \n",
    "        predizioni.append(distribution)\n",
    "    return predizioni"
   ]
  },
  {
   "cell_type": "code",
   "execution_count": 39,
   "metadata": {},
   "outputs": [],
   "source": [
    "distance_vector = get_predizioni(x_train_encoded, x_test_encoded, y_train_levels)"
   ]
  },
  {
   "cell_type": "markdown",
   "metadata": {},
   "source": [
    "Calcolo e stampa del topk"
   ]
  },
  {
   "cell_type": "code",
   "execution_count": 40,
   "metadata": {},
   "outputs": [],
   "source": [
    "from statistics import mean\n",
    "\n",
    "def topk(num):\n",
    "    x = tf.keras.metrics.TopKCategoricalAccuracy(k=num)\n",
    "    x.update_state(get_y(y_test_levels),distance_vector)\n",
    "    return x.result().numpy()"
   ]
  },
  {
   "cell_type": "code",
   "execution_count": 41,
   "metadata": {},
   "outputs": [
    {
     "name": "stdout",
     "output_type": "stream",
     "text": [
      "Valori del topk: [0.82894737, 0.8947368, 0.92105263, 0.93421054]\n",
      "Valore medio del topk: 0.8947368\n"
     ]
    }
   ],
   "source": [
    "k = [0,0,0,0] #top k=1,k=2,k=3,k=4\n",
    "\n",
    "for i in range(len(k)):\n",
    "    k[i] = topk(i+1)\n",
    "\n",
    "print(\"Valori del topk:\", k)\n",
    "print(\"Valore medio del topk:\", mean(k))"
   ]
  },
  {
   "cell_type": "markdown",
   "metadata": {},
   "source": [
    "(FACOLTATIVO/NON SERVE)\n",
    "\n",
    "Printiamo una matrice artigianale di predizioni sul test set (ci dà un idea se siamo sulla buona strada). Una matrice diagonale è l'ideale (darebbe un top k=1 uguale a 1.0). Attenzione che se il modello predice le classi con la stessa identica probabilità, nella matrice metto come predizione la prima classe nell'ordine dei class names"
   ]
  },
  {
   "cell_type": "code",
   "execution_count": 42,
   "metadata": {},
   "outputs": [
    {
     "name": "stdout",
     "output_type": "stream",
     "text": [
      "Le righe sono il ground truth. Cioè riga i = classe i\n",
      "Le colonne sono le predizioni.\n",
      "Un buon lavoro restituisce una matrice con la diagonale piena e il resto vuoto\n",
      "[9, 0, 0, 0, 2, 0, 0, 0, 0, 0, 1]\n",
      "[0, 4, 1, 0, 0, 0, 0, 0, 0, 1, 0]\n",
      "[0, 0, 15, 0, 0, 0, 0, 0, 0, 2, 1]\n",
      "[0, 0, 1, 10, 0, 0, 2, 0, 0, 0, 0]\n",
      "[0, 1, 1, 0, 20, 0, 0, 0, 0, 2, 0]\n",
      "[0, 0, 0, 0, 0, 7, 0, 0, 0, 0, 0]\n",
      "[1, 0, 0, 0, 0, 0, 10, 0, 0, 0, 1]\n",
      "[0, 0, 3, 0, 0, 0, 0, 10, 0, 0, 0]\n",
      "[0, 0, 0, 0, 0, 0, 0, 0, 4, 0, 1]\n",
      "[0, 0, 2, 0, 0, 0, 0, 0, 0, 13, 0]\n",
      "[0, 0, 1, 0, 1, 0, 0, 1, 0, 0, 24]\n"
     ]
    }
   ],
   "source": [
    "matrice = [[0 for i in range(len(distance_vector[0]))] for i in range(num_classes)]\n",
    "\n",
    "o = 0\n",
    "for i in range(len(distance_vector)):\n",
    "    if y_test_levels[o]-1 < i:\n",
    "        o = o+1\n",
    "    index = 0\n",
    "    m = distance_vector[i][0]\n",
    "    for j in range(len(distance_vector[i])):\n",
    "        if distance_vector[i][j] > m:\n",
    "            m = distance_vector[i][j]\n",
    "            index = j\n",
    "    matrice[o][index] = matrice[o][index] + 1\n",
    "        \n",
    "print(\"Le righe sono il ground truth. Cioè riga i = classe i\");\n",
    "print(\"Le colonne sono le predizioni.\\nUn buon lavoro restituisce una matrice con la diagonale piena e il resto vuoto\");\n",
    "\n",
    "for i in range(num_classes):\n",
    "    print(matrice[i])"
   ]
  },
  {
   "cell_type": "markdown",
   "metadata": {},
   "source": [
    "# Salvare i Pesi"
   ]
  },
  {
   "cell_type": "code",
   "execution_count": 43,
   "metadata": {},
   "outputs": [],
   "source": [
    "encoder.save_weights(NAME)"
   ]
  },
  {
   "cell_type": "markdown",
   "metadata": {},
   "source": [
    "# Fine Tuning"
   ]
  },
  {
   "cell_type": "code",
   "execution_count": 24,
   "metadata": {},
   "outputs": [],
   "source": [
    "encoder=get_encoder(input_shape)\n",
    "encoder.load_weights(\"BUILDFINALE_MobileNet_0.001_Run2_100Epochs_Reduce8_End30\")\n",
    "encoder.trainable = True\n",
    "siamese_network = get_siamese_network(encoder)"
   ]
  },
  {
   "cell_type": "code",
   "execution_count": 25,
   "metadata": {},
   "outputs": [],
   "source": [
    "lr=0.00001\n",
    "PATIENCE_END=30\n",
    "PATIENCE_REDUCE=10\n",
    "COOLDOWN=3\n",
    "VERBOSE=1\n",
    "NAME=f\"BUILDFINALE_MobileNet_0.001_Run2_100Epochs_Reduce8_End30_finetuning2\"\n",
    "EPOCHS=100"
   ]
  },
  {
   "cell_type": "code",
   "execution_count": 26,
   "metadata": {},
   "outputs": [],
   "source": [
    "siamese_model = SiameseModel(siamese_network)\n",
    "siamese_model.compile(optimizer=tf.keras.optimizers.Adam(lr), weighted_metrics=[])"
   ]
  },
  {
   "cell_type": "code",
   "execution_count": 28,
   "metadata": {},
   "outputs": [
    {
     "name": "stdout",
     "output_type": "stream",
     "text": [
      "Epoch 1/100\n",
      "82/82 [==============================] - 171s 2s/step - loss: 0.4522 - acc: 0.6142 - val_loss: 0.3668 - val_acc: 0.6538 - lr: 1.0000e-05\n",
      "Epoch 2/100\n",
      "82/82 [==============================] - 176s 2s/step - loss: 0.4101 - acc: 0.6356 - val_loss: 0.3833 - val_acc: 0.6692 - lr: 1.0000e-05\n",
      "Epoch 3/100\n",
      "82/82 [==============================] - 176s 2s/step - loss: 0.4024 - acc: 0.6567 - val_loss: 0.3187 - val_acc: 0.7500 - lr: 1.0000e-05\n",
      "Epoch 4/100\n",
      "82/82 [==============================] - 169s 2s/step - loss: 0.3913 - acc: 0.6495 - val_loss: 0.2755 - val_acc: 0.7615 - lr: 1.0000e-05\n",
      "Epoch 5/100\n",
      "82/82 [==============================] - 158s 2s/step - loss: 0.3730 - acc: 0.6902 - val_loss: 0.3472 - val_acc: 0.6346 - lr: 1.0000e-05\n",
      "Epoch 6/100\n",
      "82/82 [==============================] - 160s 2s/step - loss: 0.3578 - acc: 0.7091 - val_loss: 0.3425 - val_acc: 0.7192 - lr: 1.0000e-05\n",
      "Epoch 7/100\n",
      "82/82 [==============================] - 163s 2s/step - loss: 0.3781 - acc: 0.6861 - val_loss: 0.3054 - val_acc: 0.7346 - lr: 1.0000e-05\n",
      "Epoch 8/100\n",
      "82/82 [==============================] - 164s 2s/step - loss: 0.3587 - acc: 0.6828 - val_loss: 0.2877 - val_acc: 0.7615 - lr: 1.0000e-05\n",
      "Epoch 9/100\n",
      "82/82 [==============================] - 166s 2s/step - loss: 0.3773 - acc: 0.6910 - val_loss: 0.3010 - val_acc: 0.7385 - lr: 1.0000e-05\n",
      "Epoch 10/100\n",
      "82/82 [==============================] - 164s 2s/step - loss: 0.3748 - acc: 0.6761 - val_loss: 0.2644 - val_acc: 0.7769 - lr: 1.0000e-05\n",
      "Epoch 11/100\n",
      "82/82 [==============================] - 164s 2s/step - loss: 0.3727 - acc: 0.6641 - val_loss: 0.2789 - val_acc: 0.7577 - lr: 1.0000e-05\n",
      "Epoch 12/100\n",
      "82/82 [==============================] - 173s 2s/step - loss: 0.3364 - acc: 0.7241 - val_loss: 0.2987 - val_acc: 0.7538 - lr: 1.0000e-05\n",
      "Epoch 13/100\n",
      "82/82 [==============================] - 172s 2s/step - loss: 0.3382 - acc: 0.7116 - val_loss: 0.2697 - val_acc: 0.7885 - lr: 1.0000e-05\n",
      "Epoch 14/100\n",
      "82/82 [==============================] - 168s 2s/step - loss: 0.3435 - acc: 0.7180 - val_loss: 0.2953 - val_acc: 0.7500 - lr: 1.0000e-05\n",
      "Epoch 15/100\n",
      "82/82 [==============================] - 168s 2s/step - loss: 0.3428 - acc: 0.7056 - val_loss: 0.2858 - val_acc: 0.7538 - lr: 1.0000e-05\n",
      "Epoch 16/100\n",
      "82/82 [==============================] - 165s 2s/step - loss: 0.3432 - acc: 0.7115 - val_loss: 0.2287 - val_acc: 0.8000 - lr: 1.0000e-05\n",
      "Epoch 17/100\n",
      "82/82 [==============================] - 165s 2s/step - loss: 0.3456 - acc: 0.7006 - val_loss: 0.2609 - val_acc: 0.7731 - lr: 1.0000e-05\n",
      "Epoch 18/100\n",
      "82/82 [==============================] - 163s 2s/step - loss: 0.3380 - acc: 0.7142 - val_loss: 0.2931 - val_acc: 0.7231 - lr: 1.0000e-05\n",
      "Epoch 19/100\n",
      "82/82 [==============================] - 162s 2s/step - loss: 0.3400 - acc: 0.7273 - val_loss: 0.2345 - val_acc: 0.8115 - lr: 1.0000e-05\n",
      "Epoch 20/100\n",
      "82/82 [==============================] - 164s 2s/step - loss: 0.3467 - acc: 0.6988 - val_loss: 0.2657 - val_acc: 0.7846 - lr: 1.0000e-05\n",
      "Epoch 21/100\n",
      "82/82 [==============================] - 162s 2s/step - loss: 0.3354 - acc: 0.7160 - val_loss: 0.2977 - val_acc: 0.7385 - lr: 1.0000e-05\n",
      "Epoch 22/100\n",
      "82/82 [==============================] - 165s 2s/step - loss: 0.3545 - acc: 0.6999 - val_loss: 0.2705 - val_acc: 0.7654 - lr: 1.0000e-05\n",
      "Epoch 23/100\n",
      "82/82 [==============================] - 163s 2s/step - loss: 0.3318 - acc: 0.7323 - val_loss: 0.2483 - val_acc: 0.7885 - lr: 1.0000e-05\n",
      "Epoch 24/100\n",
      "82/82 [==============================] - 168s 2s/step - loss: 0.3365 - acc: 0.7232 - val_loss: 0.3430 - val_acc: 0.7231 - lr: 1.0000e-05\n",
      "Epoch 25/100\n",
      "82/82 [==============================] - 165s 2s/step - loss: 0.3511 - acc: 0.7042 - val_loss: 0.2610 - val_acc: 0.8192 - lr: 1.0000e-05\n",
      "Epoch 26/100\n",
      "82/82 [==============================] - ETA: 0s - loss: 0.3350 - acc: 0.7167\n",
      "Epoch 26: ReduceLROnPlateau reducing learning rate to 4.999999873689376e-06.\n",
      "82/82 [==============================] - 159s 2s/step - loss: 0.3350 - acc: 0.7167 - val_loss: 0.2677 - val_acc: 0.7385 - lr: 1.0000e-05\n",
      "Epoch 27/100\n",
      "82/82 [==============================] - 158s 2s/step - loss: 0.3408 - acc: 0.6706 - val_loss: 0.2874 - val_acc: 0.7462 - lr: 5.0000e-06\n",
      "Epoch 28/100\n",
      "82/82 [==============================] - 162s 2s/step - loss: 0.3295 - acc: 0.7173 - val_loss: 0.2486 - val_acc: 0.7923 - lr: 5.0000e-06\n",
      "Epoch 29/100\n",
      "82/82 [==============================] - 168s 2s/step - loss: 0.3334 - acc: 0.7104 - val_loss: 0.2871 - val_acc: 0.7654 - lr: 5.0000e-06\n",
      "Epoch 30/100\n",
      "82/82 [==============================] - 170s 2s/step - loss: 0.3317 - acc: 0.7325 - val_loss: 0.2444 - val_acc: 0.8077 - lr: 5.0000e-06\n",
      "Epoch 31/100\n",
      "82/82 [==============================] - 166s 2s/step - loss: 0.3257 - acc: 0.7240 - val_loss: 0.3098 - val_acc: 0.7154 - lr: 5.0000e-06\n",
      "Epoch 32/100\n",
      "82/82 [==============================] - 171s 2s/step - loss: 0.3215 - acc: 0.7434 - val_loss: 0.2748 - val_acc: 0.7769 - lr: 5.0000e-06\n",
      "Epoch 33/100\n",
      "82/82 [==============================] - 164s 2s/step - loss: 0.3099 - acc: 0.7234 - val_loss: 0.2661 - val_acc: 0.7923 - lr: 5.0000e-06\n",
      "Epoch 34/100\n",
      "82/82 [==============================] - 162s 2s/step - loss: 0.3365 - acc: 0.7130 - val_loss: 0.2617 - val_acc: 0.7769 - lr: 5.0000e-06\n",
      "Epoch 35/100\n",
      "82/82 [==============================] - 162s 2s/step - loss: 0.3200 - acc: 0.7256 - val_loss: 0.2569 - val_acc: 0.7808 - lr: 5.0000e-06\n",
      "Epoch 36/100\n",
      "82/82 [==============================] - 165s 2s/step - loss: 0.3193 - acc: 0.7534 - val_loss: 0.2693 - val_acc: 0.7808 - lr: 5.0000e-06\n",
      "Epoch 37/100\n",
      "82/82 [==============================] - 166s 2s/step - loss: 0.3222 - acc: 0.7455 - val_loss: 0.2506 - val_acc: 0.8038 - lr: 5.0000e-06\n",
      "Epoch 38/100\n",
      "82/82 [==============================] - ETA: 0s - loss: 0.3201 - acc: 0.7414\n",
      "Epoch 38: ReduceLROnPlateau reducing learning rate to 2.499999936844688e-06.\n",
      "82/82 [==============================] - 159s 2s/step - loss: 0.3201 - acc: 0.7413 - val_loss: 0.2964 - val_acc: 0.7385 - lr: 5.0000e-06\n",
      "Epoch 39/100\n",
      "82/82 [==============================] - 157s 2s/step - loss: 0.3101 - acc: 0.7296 - val_loss: 0.2606 - val_acc: 0.7846 - lr: 2.5000e-06\n",
      "Epoch 40/100\n",
      "82/82 [==============================] - 155s 2s/step - loss: 0.3101 - acc: 0.7414 - val_loss: 0.2830 - val_acc: 0.7577 - lr: 2.5000e-06\n",
      "Epoch 41/100\n",
      "82/82 [==============================] - 166s 2s/step - loss: 0.3195 - acc: 0.7212 - val_loss: 0.2230 - val_acc: 0.8038 - lr: 2.5000e-06\n",
      "Epoch 42/100\n",
      "82/82 [==============================] - 170s 2s/step - loss: 0.3147 - acc: 0.7245 - val_loss: 0.2316 - val_acc: 0.8000 - lr: 2.5000e-06\n",
      "Epoch 43/100\n",
      "82/82 [==============================] - 167s 2s/step - loss: 0.3135 - acc: 0.7368 - val_loss: 0.2971 - val_acc: 0.7808 - lr: 2.5000e-06\n",
      "Epoch 44/100\n",
      "82/82 [==============================] - 163s 2s/step - loss: 0.3166 - acc: 0.7379 - val_loss: 0.2858 - val_acc: 0.7808 - lr: 2.5000e-06\n",
      "Epoch 45/100\n",
      "82/82 [==============================] - 167s 2s/step - loss: 0.3068 - acc: 0.7492 - val_loss: 0.2825 - val_acc: 0.7654 - lr: 2.5000e-06\n",
      "Epoch 46/100\n",
      "82/82 [==============================] - 168s 2s/step - loss: 0.3113 - acc: 0.7479 - val_loss: 0.2547 - val_acc: 0.7846 - lr: 2.5000e-06\n",
      "Epoch 47/100\n",
      "82/82 [==============================] - 177s 2s/step - loss: 0.3069 - acc: 0.7436 - val_loss: 0.2353 - val_acc: 0.8038 - lr: 2.5000e-06\n",
      "Epoch 48/100\n",
      "82/82 [==============================] - 162s 2s/step - loss: 0.2867 - acc: 0.7481 - val_loss: 0.2665 - val_acc: 0.7538 - lr: 2.5000e-06\n",
      "Epoch 49/100\n",
      "82/82 [==============================] - 161s 2s/step - loss: 0.3109 - acc: 0.7225 - val_loss: 0.2645 - val_acc: 0.7923 - lr: 2.5000e-06\n",
      "Epoch 50/100\n",
      "82/82 [==============================] - ETA: 0s - loss: 0.2984 - acc: 0.7311\n",
      "Epoch 50: ReduceLROnPlateau reducing learning rate to 1.249999968422344e-06.\n",
      "82/82 [==============================] - 165s 2s/step - loss: 0.2984 - acc: 0.7312 - val_loss: 0.2574 - val_acc: 0.8115 - lr: 2.5000e-06\n",
      "Epoch 51/100\n",
      "82/82 [==============================] - 162s 2s/step - loss: 0.2921 - acc: 0.7614 - val_loss: 0.2289 - val_acc: 0.7885 - lr: 1.2500e-06\n",
      "Epoch 52/100\n",
      "82/82 [==============================] - 160s 2s/step - loss: 0.2996 - acc: 0.7455 - val_loss: 0.2526 - val_acc: 0.7808 - lr: 1.2500e-06\n",
      "Epoch 53/100\n",
      "82/82 [==============================] - 156s 2s/step - loss: 0.2980 - acc: 0.7436 - val_loss: 0.2721 - val_acc: 0.7846 - lr: 1.2500e-06\n",
      "Epoch 54/100\n",
      "82/82 [==============================] - 155s 2s/step - loss: 0.2923 - acc: 0.7732 - val_loss: 0.2906 - val_acc: 0.7577 - lr: 1.2500e-06\n",
      "Epoch 55/100\n",
      "82/82 [==============================] - 156s 2s/step - loss: 0.2987 - acc: 0.7367 - val_loss: 0.2833 - val_acc: 0.7077 - lr: 1.2500e-06\n",
      "Epoch 56/100\n",
      "82/82 [==============================] - 156s 2s/step - loss: 0.3012 - acc: 0.7328 - val_loss: 0.2799 - val_acc: 0.7731 - lr: 1.2500e-06\n",
      "Epoch 57/100\n",
      "82/82 [==============================] - 156s 2s/step - loss: 0.2985 - acc: 0.7459 - val_loss: 0.2741 - val_acc: 0.7769 - lr: 1.2500e-06\n",
      "Epoch 58/100\n",
      "82/82 [==============================] - 154s 2s/step - loss: 0.2830 - acc: 0.7602 - val_loss: 0.2543 - val_acc: 0.7885 - lr: 1.2500e-06\n",
      "Epoch 59/100\n",
      "82/82 [==============================] - 155s 2s/step - loss: 0.2904 - acc: 0.7578 - val_loss: 0.2645 - val_acc: 0.7808 - lr: 1.2500e-06\n",
      "Epoch 60/100\n",
      "82/82 [==============================] - 158s 2s/step - loss: 0.2968 - acc: 0.7415 - val_loss: 0.2609 - val_acc: 0.7808 - lr: 1.2500e-06\n",
      "Epoch 61/100\n",
      "82/82 [==============================] - 155s 2s/step - loss: 0.2935 - acc: 0.7649 - val_loss: 0.2322 - val_acc: 0.8115 - lr: 1.2500e-06\n",
      "Epoch 62/100\n",
      "82/82 [==============================] - ETA: 0s - loss: 0.3020 - acc: 0.7490\n",
      "Epoch 62: ReduceLROnPlateau reducing learning rate to 1e-06.\n",
      "82/82 [==============================] - 156s 2s/step - loss: 0.3020 - acc: 0.7491 - val_loss: 0.2727 - val_acc: 0.7577 - lr: 1.2500e-06\n",
      "Epoch 63/100\n",
      "82/82 [==============================] - 155s 2s/step - loss: 0.2958 - acc: 0.7627 - val_loss: 0.2513 - val_acc: 0.7923 - lr: 1.0000e-06\n",
      "Epoch 64/100\n",
      "82/82 [==============================] - 156s 2s/step - loss: 0.2855 - acc: 0.7645 - val_loss: 0.2618 - val_acc: 0.7615 - lr: 1.0000e-06\n",
      "Epoch 65/100\n",
      "82/82 [==============================] - 154s 2s/step - loss: 0.2715 - acc: 0.7523 - val_loss: 0.2965 - val_acc: 0.7654 - lr: 1.0000e-06\n",
      "Epoch 66/100\n",
      "82/82 [==============================] - 155s 2s/step - loss: 0.2863 - acc: 0.7562 - val_loss: 0.2383 - val_acc: 0.7769 - lr: 1.0000e-06\n",
      "Epoch 67/100\n",
      "82/82 [==============================] - 157s 2s/step - loss: 0.3015 - acc: 0.7572 - val_loss: 0.3164 - val_acc: 0.7269 - lr: 1.0000e-06\n",
      "Epoch 68/100\n",
      "82/82 [==============================] - 157s 2s/step - loss: 0.2869 - acc: 0.7530 - val_loss: 0.2666 - val_acc: 0.7923 - lr: 1.0000e-06\n",
      "Epoch 69/100\n",
      "82/82 [==============================] - 155s 2s/step - loss: 0.2921 - acc: 0.7737 - val_loss: 0.2607 - val_acc: 0.7500 - lr: 1.0000e-06\n",
      "Epoch 70/100\n",
      "82/82 [==============================] - 155s 2s/step - loss: 0.2972 - acc: 0.7435 - val_loss: 0.2772 - val_acc: 0.7615 - lr: 1.0000e-06\n",
      "Epoch 71/100\n",
      "82/82 [==============================] - 156s 2s/step - loss: 0.3012 - acc: 0.7432 - val_loss: 0.2735 - val_acc: 0.7462 - lr: 1.0000e-06\n"
     ]
    }
   ],
   "source": [
    "early_stopping = tf.keras.callbacks.EarlyStopping(monitor='val_loss',\n",
    "                                                    patience=PATIENCE_END,\n",
    "                                                    mode='min',\n",
    "                                                    restore_best_weights='val_loss')\n",
    "\n",
    "reduce_lr=tf.keras.callbacks.ReduceLROnPlateau(monitor='val_loss',\n",
    "                                               factor=0.5,\n",
    "                                               patience=PATIENCE_REDUCE,\n",
    "                                               verbose=VERBOSE,\n",
    "                                               mode='auto',\n",
    "                                               min_delta=0.01,\n",
    "                                               cooldown=COOLDOWN,\n",
    "                                               min_lr=1e-6\n",
    "                                              )\n",
    "\n",
    "tensorboard_callback = tf.keras.callbacks.TensorBoard(log_dir=f\"./logs/{NAME}\")\n",
    "\n",
    "steps_train=int( x_train_len/batch_size )\n",
    "steps_val=int(x_val_len/batch_size)\n",
    "\n",
    "history = siamese_model.fit(\n",
    "    generatore_triplete_train,\n",
    "    steps_per_epoch=steps_train,\n",
    "    batch_size=batch_size,\n",
    "    epochs=EPOCHS,\n",
    "    verbose=1,\n",
    "    validation_data=generatore_triplete_val,\n",
    "    validation_steps=steps_val,\n",
    "    callbacks=[early_stopping,reduce_lr,tensorboard_callback]\n",
    ")"
   ]
  },
  {
   "cell_type": "code",
   "execution_count": 29,
   "metadata": {},
   "outputs": [
    {
     "data": {
      "image/png": "[encoded data removed]",
      "text/plain": [
       "<Figure size 640x480 with 1 Axes>"
      ]
     },
     "metadata": {},
     "output_type": "display_data"
    }
   ],
   "source": [
    "import matplotlib.pyplot as plt\n",
    "\n",
    "plt.plot(history.history['acc'])\n",
    "plt.plot(history.history['val_acc'])\n",
    "plt.plot(history.history['loss'])\n",
    "plt.plot(history.history['val_loss'])\n",
    "plt.title('model accuracy & loss')\n",
    "plt.ylabel('accuracy & loss')\n",
    "plt.xlabel('epoch')\n",
    "plt.legend(['acc train', 'acc val', 'loss train','loss val'], loc='upper left')\n",
    "plt.show()"
   ]
  },
  {
   "cell_type": "code",
   "execution_count": 32,
   "metadata": {},
   "outputs": [
    {
     "name": "stdout",
     "output_type": "stream",
     "text": [
      "Data transformed into array\n",
      "Encoding data...\n",
      "Data transformed into array\n",
      "Encoding data...\n",
      "Valori del topk: [0.8881579, 0.92105263, 0.93421054, 0.94736844]\n",
      "Valore medio del topk: 0.92269737\n"
     ]
    }
   ],
   "source": [
    "encoder = get_encoder_with_weights(siamese_model, input_shape)\n",
    "\n",
    "y_train_levels = get_levels(x_train)\n",
    "x_train_array = to_array(x_train)\n",
    "x_train_encoded = produce_encodings(x_train_array, encoder)\n",
    "\n",
    "y_test_levels = get_levels(x_test)\n",
    "x_test_array = to_array(x_test)\n",
    "x_test_encoded = produce_encodings(x_test_array, encoder)\n",
    "\n",
    "distance_vector = get_predizioni(x_train_encoded, x_test_encoded, y_train_levels)\n",
    "\n",
    "k=[0,0,0,0]\n",
    "for i in range(len(k)):\n",
    "    k[i] = topk(i+1)\n",
    "\n",
    "print(\"Valori del topk:\", k)\n",
    "print(\"Valore medio del topk:\", mean(k))"
   ]
  },
  {
   "cell_type": "code",
   "execution_count": 33,
   "metadata": {},
   "outputs": [],
   "source": [
    "encoder = get_encoder_with_weights(siamese_model, input_shape)\n",
    "encoder.save_weights(NAME)"
   ]
  },
  {
   "cell_type": "code",
   "execution_count": 34,
   "metadata": {},
   "outputs": [
    {
     "name": "stdout",
     "output_type": "stream",
     "text": [
      "BUILDFINALE_MobileNet_0.001_Run2_100Epochs_Reduce8_End30_finetuning2\n"
     ]
    }
   ],
   "source": [
    "print(NAME)"
   ]
  },
  {
   "cell_type": "code",
   "execution_count": null,
   "metadata": {},
   "outputs": [],
   "source": []
  }
 ],
 "metadata": {
  "accelerator": "TPU",
  "colab": {
   "collapsed_sections": [
    "Oziy1UvW7UPM",
    "YrGZaLez8Mzp",
    "663Kn89ArM2C",
    "RO9_mdQNg30A",
    "MwJhSXsz42Jf"
   ],
   "provenance": []
  },
  "gpuClass": "standard",
  "kernelspec": {
   "display_name": "Python 3 (ipykernel)",
   "language": "python",
   "name": "python3"
  },
  "language_info": {
   "codemirror_mode": {
    "name": "ipython",
    "version": 3
   },
   "file_extension": ".py",
   "mimetype": "text/x-python",
   "name": "python",
   "nbconvert_exporter": "python",
   "pygments_lexer": "ipython3",
   "version": "3.9.16"
  }
 },
 "nbformat": 4,
 "nbformat_minor": 4
}
