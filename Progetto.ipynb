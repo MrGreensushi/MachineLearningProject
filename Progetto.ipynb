{
 "cells": [
  {
   "cell_type": "markdown",
   "metadata": {
    "id": "Y7_rPHBS49qm"
   },
   "source": [
    "# Import Google Drive"
   ]
  },
  {
   "cell_type": "code",
   "execution_count": null,
   "metadata": {
    "colab": {
     "base_uri": "https://localhost:8080/"
    },
    "executionInfo": {
     "elapsed": 31913,
     "status": "ok",
     "timestamp": 1677682484124,
     "user": {
      "displayName": "Hathi “danspi” Branco Wild",
      "userId": "03173318165689254341"
     },
     "user_tz": -60
    },
    "id": "FqMihrRrsdB8",
    "outputId": "6119ac87-b7c8-440c-859d-f914c50dcea2",
    "scrolled": true
   },
   "outputs": [],
   "source": [
    "#from google.colab import drive\n",
    "#drive.mount('/content/drive', force_remount=True)"
   ]
  },
  {
   "cell_type": "code",
   "execution_count": null,
   "metadata": {
    "id": "nb_cpIAnvYt9"
   },
   "outputs": [],
   "source": [
    "#!unzip \"/content/drive/MyDrive/paris.zip\" -d \"/content/drive/MyDrive/Paris120x120/\"  > /dev/null"
   ]
  },
  {
   "cell_type": "markdown",
   "metadata": {
    "id": "Oziy1UvW7UPM"
   },
   "source": [
    "# Carica DataSet"
   ]
  },
  {
   "cell_type": "code",
   "execution_count": 1,
   "metadata": {},
   "outputs": [],
   "source": [
    "computerDi=\"Daniele\"\n",
    "\n",
    "if(computerDi==\"Daniele\"):\n",
    "    groundtruth_dir = r\"C:\\Users\\dansp\\OneDrive\\Desktop\\gdz\"\n",
    "    dataset_dir = r\"C:\\Users\\dansp\\OneDrive\\Desktop\\paris\"\n",
    "elif(computerDi==\"Andrea\"):\n",
    "    groundtruth_dir = r\"D:\\Andrea\\Downloads\\gzp\"\n",
    "    dataset_dir = r\"D:\\Andrea\\Downloads\\Paris120x120\"\n",
    "else:\n",
    "    groundtruth_dir = r\"D:\\Andrea\\Downloads\\gzp\"\n",
    "    dataset_dir = r\"D:\\Andrea\\Downloads\\Paris120x120\""
   ]
  },
  {
   "cell_type": "code",
   "execution_count": 2,
   "metadata": {},
   "outputs": [
    {
     "name": "stdout",
     "output_type": "stream",
     "text": [
      "Numero di good:  0\n",
      "Numero di ok:  1790\n",
      "Numero di bad:  0\n",
      "Numero di junk:  1619\n"
     ]
    }
   ],
   "source": [
    "import load_dataset\n",
    "\n",
    "class_names = load_dataset.get_classnames()\n",
    "num_classes = len(class_names)\n",
    "\n",
    "dataset = load_dataset.get_dataset(groundtruth_dir, dataset_dir, class_names)"
   ]
  },
  {
   "cell_type": "markdown",
   "metadata": {},
   "source": [
    "Funzioni per la stampa di statistiche sul DB"
   ]
  },
  {
   "cell_type": "code",
   "execution_count": 3,
   "metadata": {
    "colab": {
     "base_uri": "https://localhost:8080/"
    },
    "executionInfo": {
     "elapsed": 17,
     "status": "ok",
     "timestamp": 1677682632194,
     "user": {
      "displayName": "Hathi “danspi” Branco Wild",
      "userId": "03173318165689254341"
     },
     "user_tz": -60
    },
    "id": "EvuQ4lsS4B9O",
    "outputId": "0fb8851e-0a18-45d5-d0a5-6374f016dba9"
   },
   "outputs": [
    {
     "name": "stdout",
     "output_type": "stream",
     "text": [
      "Numero immagini del dataset:  2706\n",
      "Numero di immagini nei vari landmark:  [232. 129. 266. 249. 345.  90. 205. 319. 147. 280. 444.]\n",
      "Immagini good-ok-bad-junk:  [0, 1512, 0, 1194]\n",
      "Per ogni landmark, quanti sono quelli good, ok, bad e junk: [[0, 124, 0, 108], [0, 61, 0, 68], [0, 182, 0, 84], [0, 131, 0, 118], [0, 237, 0, 108], [0, 72, 0, 18], [0, 113, 0, 92], [0, 127, 0, 192], [0, 52, 0, 95], [0, 145, 0, 135], [0, 268, 0, 176]]\n"
     ]
    }
   ],
   "source": [
    "import print_functions as prt\n",
    "\n",
    "prt.print_dataset_stats(dataset)"
   ]
  },
  {
   "cell_type": "markdown",
   "metadata": {
    "id": "663Kn89ArM2C"
   },
   "source": [
    "# Split dei dati in training, validation, test set"
   ]
  },
  {
   "cell_type": "code",
   "execution_count": 4,
   "metadata": {},
   "outputs": [],
   "source": [
    "import tensorflow as tf\n",
    "from tensorflow.keras import layers\n",
    "from tensorflow import keras\n",
    "import random"
   ]
  },
  {
   "cell_type": "code",
   "execution_count": 5,
   "metadata": {
    "colab": {
     "base_uri": "https://localhost:8080/"
    },
    "executionInfo": {
     "elapsed": 15,
     "status": "ok",
     "timestamp": 1677682632195,
     "user": {
      "displayName": "Hathi “danspi” Branco Wild",
      "userId": "03173318165689254341"
     },
     "user_tz": -60
    },
    "id": "-lE3T_GsjbR8",
    "outputId": "59f96407-6767-4949-e74f-25180b24cb98"
   },
   "outputs": [
    {
     "name": "stdout",
     "output_type": "stream",
     "text": [
      "2165\n",
      "266\n",
      "275\n"
     ]
    }
   ],
   "source": [
    "# Da Dataset -> A X_train, X_val, X_test\n",
    "\n",
    "# per avere uno split equilibrato, esso avverrà secondo il seguente criterio:\n",
    "# il training set sarà formato, per ogni landmark, dall' 80% del totale delle\n",
    "# good per quel landmark + 80% del totale delle ok per quel landmark + ecc...\n",
    "# il test set e il validation set avranno il 10% a testa\n",
    "\n",
    "def split_dataset(dataset, x_train, x_val, x_test):\n",
    "\n",
    "  for i in range(len(dataset)):\n",
    "    for j in range(len(dataset[i])): \n",
    "      \n",
    "      num_samples = len(dataset[i][j])\n",
    "\n",
    "      train_len = round(0.8 * num_samples)\n",
    "      x_train[i][j] = x_train[i][j] + dataset[i][j][:train_len]\n",
    "      \n",
    "      val_len = (num_samples - train_len) // 2\n",
    "      x_val[i][j] = x_val[i][j] + dataset[i][j][train_len: train_len + val_len]\n",
    "\n",
    "      test_len = (num_samples - train_len - val_len)\n",
    "      x_test[i][j] = x_test[i][j] + dataset[i][j][-test_len:]\n",
    "\n",
    "  return;\n",
    "\n",
    "x_train = [ [[],[],[],[]] for x in range(len(class_names))]\n",
    "x_val = [ [[],[],[],[]] for x in range(len(class_names))]\n",
    "x_test = [ [[],[],[],[]] for x in range(len(class_names))]\n",
    "\n",
    "split_dataset(dataset, x_train, x_val, x_test)\n",
    "\n",
    "x_train_len = prt.dataset_len(x_train)\n",
    "x_val_len = prt.dataset_len(x_val)\n",
    "\n",
    "print(prt.dataset_len(x_train))\n",
    "print(prt.dataset_len(x_val))\n",
    "print(prt.dataset_len(x_test))"
   ]
  },
  {
   "cell_type": "markdown",
   "metadata": {
    "id": "F6rg72JV4uVX"
   },
   "source": [
    "# Data Augmentation"
   ]
  },
  {
   "cell_type": "markdown",
   "metadata": {},
   "source": [
    "Definizione degli ImageDataGenerator. Gli oggetti ImageDataGenerator definiscono le trasformazioni che si faranno.\n",
    "Chiamando flow(numpy_array_immagini) su ImageDataGenerator, flow restituirà un generatore di immagini transformate."
   ]
  },
  {
   "cell_type": "code",
   "execution_count": 6,
   "metadata": {},
   "outputs": [],
   "source": [
    "#oggetto ImageDataGenerator, definisce le trasformazioni\n",
    "gen_settings = keras.preprocessing.image.ImageDataGenerator(\n",
    "    rotation_range=60,\n",
    "    shear_range=0.1,\n",
    "    zoom_range=0.1,\n",
    "    horizontal_flip=False,  \n",
    "    vertical_flip=False,                     \n",
    "    rescale=None,\n",
    "    fill_mode='nearest'\n",
    ")\n",
    "\n",
    "#ImageDataGenerator senza trasformazioni per validation set\n",
    "test_val_settings = keras.preprocessing.image.ImageDataGenerator()"
   ]
  },
  {
   "cell_type": "markdown",
   "metadata": {},
   "source": [
    "Ora definiamo una classe custom che prende gli ImageDataGenerator del nostro dataset, e gli usa per creare un generatore di triplette."
   ]
  },
  {
   "cell_type": "code",
   "execution_count": 7,
   "metadata": {},
   "outputs": [],
   "source": [
    "class CustomDataGenerator(object):\n",
    "    \n",
    "    # parametro nel costruttore: dataset_generators. Ha la solita struttura [ [[good],[ok],[bad],[junk]],  [...], ...]\n",
    "    # però invece che avere le foto nei good, ok, ... ho un generatore per quella categoria che genera le trasformazioni\n",
    "    \n",
    "    def __init__(self, dataset_generators,batch_size) -> None:\n",
    "        self.dataset_generators = dataset_generators\n",
    "        self.batch_size=batch_size\n",
    "\n",
    "    def next_train(self):\n",
    "        current_class = -1\n",
    "        while 1:\n",
    "            anchors=[]\n",
    "            positives=[]\n",
    "            negatives=[]\n",
    "            for i in range(self.batch_size):\n",
    "                current_class = current_class+1\n",
    "                current_class = current_class % num_classes\n",
    "                \n",
    "                _anchor,_positive,_negative=retrieve_single_triplet(self,current_class)\n",
    "                anchors.append(_anchor)#se metto anchor invece di [anchor], quando faccio fit non funziona. Da capire\n",
    "                positives.append(_positive)\n",
    "                negatives.append(_negative)\n",
    "            \n",
    "            anchors=tf.convert_to_tensor(anchors)\n",
    "            positives=tf.convert_to_tensor(positives)\n",
    "            negatives=tf.convert_to_tensor(negatives)\n",
    "            \n",
    "            triplet = (anchors, positives, negatives)\n",
    "            yield(triplet)\n",
    "        \n",
    "def retrieve_single_triplet(self,current_class):\n",
    "    different_class = random.randint(0, num_classes-1)\n",
    "    \n",
    "    while(different_class == current_class):\n",
    "        different_class = random.randint(0, num_classes-1)  \n",
    "            \n",
    "    _anchor = next(self.dataset_generators[current_class][1])[0]\n",
    "    _positive = next(self.dataset_generators[current_class][1])[0]\n",
    "    _negative = next(self.dataset_generators[different_class][random.choice([1,3])])[0]    \n",
    "    return _anchor,_positive,_negative"
   ]
  },
  {
   "cell_type": "markdown",
   "metadata": {},
   "source": [
    "x_train, x_val, x_test sono strutture dati di immagini così disposte: [ [[good],[ok],[bad],[junk]],  [...], ...]\n",
    "Sostituiamo le immagini coi generatori creati a partire da quelle immagini."
   ]
  },
  {
   "cell_type": "code",
   "execution_count": 8,
   "metadata": {
    "scrolled": true
   },
   "outputs": [],
   "source": [
    "import numpy as np\n",
    "\n",
    "#x_train, x_val, x_test prima contenevano array di immagini. Ora contengono generatori separati per classe e qualità\n",
    "def transform_dataset(ds, gen_settings):\n",
    "    for i in range(len(ds)):\n",
    "        for j in [1,3]: #abbiamo solo immagini ok e junk (1 e 3) nel database\n",
    "            generatore = gen_settings.flow(x=np.asarray(ds[i][j]), batch_size=1) #batch size 1 per ritornare una sola img\n",
    "            ds[i][j] = generatore\n",
    "    return ds\n",
    "\n",
    "x_train_gen = transform_dataset(x_train, gen_settings)\n",
    "x_val_gen = transform_dataset(x_val, test_val_settings)\n",
    "#x_test = transform_dataset(x_test, test_val_settings)"
   ]
  },
  {
   "cell_type": "code",
   "execution_count": 9,
   "metadata": {},
   "outputs": [],
   "source": [
    "batch_size=128\n",
    "#Training generator\n",
    "custom_gen_train = CustomDataGenerator(x_train_gen,batch_size)\n",
    "generatore_triplete_train = custom_gen_train.next_train()\n",
    "\n",
    "#Validation generator\n",
    "custom_gen_val = CustomDataGenerator(x_val_gen,batch_size)\n",
    "generatore_triplete_val = custom_gen_val.next_train() "
   ]
  },
  {
   "cell_type": "code",
   "execution_count": null,
   "metadata": {},
   "outputs": [],
   "source": [
    "prt.stampa_tripletta(next(generatore_triplete_train))\n",
    "prt.stampa_tripletta(next(generatore_triplete_train))\n",
    "prt.stampa_tripletta(next(generatore_triplete_train))"
   ]
  },
  {
   "cell_type": "markdown",
   "metadata": {
    "id": "GTfKkXSex5hY"
   },
   "source": [
    "# Definizione Modello Triple"
   ]
  },
  {
   "cell_type": "code",
   "execution_count": 10,
   "metadata": {
    "colab": {
     "base_uri": "https://localhost:8080/"
    },
    "executionInfo": {
     "elapsed": 317,
     "status": "ok",
     "timestamp": 1677683208972,
     "user": {
      "displayName": "Hathi “danspi” Branco Wild",
      "userId": "03173318165689254341"
     },
     "user_tz": -60
    },
    "id": "jPhBXKjtx_Ez",
    "outputId": "d5fd85c2-6080-4518-c49b-1a527036a068"
   },
   "outputs": [],
   "source": [
    "import tensorflow as tf\n",
    "from tensorflow.keras import layers\n",
    "from tensorflow.keras.applications import resnet\n",
    "from tensorflow.keras.applications.resnet import preprocess_input"
   ]
  },
  {
   "cell_type": "code",
   "execution_count": 11,
   "metadata": {
    "colab": {
     "base_uri": "https://localhost:8080/"
    },
    "executionInfo": {
     "elapsed": 4961,
     "status": "ok",
     "timestamp": 1677683214164,
     "user": {
      "displayName": "Hathi “danspi” Branco Wild",
      "userId": "03173318165689254341"
     },
     "user_tz": -60
    },
    "id": "LPb1dxnQlpKw",
    "outputId": "0eec6b29-94d6-447a-e338-664ebac8dbff"
   },
   "outputs": [],
   "source": [
    "def get_encoder (input_shape):\n",
    "    \n",
    "    base_cnn = resnet.ResNet50(\n",
    "    weights=\"imagenet\", input_shape=input_shape, include_top=False)\n",
    "    \n",
    "    trainable = False\n",
    "    for layer in base_cnn.layers:\n",
    "        if layer.name == \"conv5_block1_out\":\n",
    "            trainable = True\n",
    "        layer.trainable = trainable\n",
    "        \n",
    "    encode_model = tf.keras.models.Sequential([\n",
    "        base_cnn,\n",
    "        layers.Flatten(),\n",
    "        layers.Dense(512, activation=\"relu\"),\n",
    "        layers.BatchNormalization(),\n",
    "        layers.Dense(256, activation=\"relu\"),\n",
    "        layers.BatchNormalization(),\n",
    "        layers.Dense(32)\n",
    "    ], name=\"Embedding\")\n",
    "    \n",
    "    \n",
    "    return encode_model"
   ]
  },
  {
   "cell_type": "code",
   "execution_count": 12,
   "metadata": {},
   "outputs": [],
   "source": [
    "class DistanceLayer(layers.Layer):\n",
    "    \"\"\"\n",
    "    This layer is responsible for computing the distance between the anchor\n",
    "    embedding and the positive embedding, and the anchor embedding and the\n",
    "    negative embedding.\n",
    "    \"\"\"\n",
    "\n",
    "    def __init__(self, **kwargs):\n",
    "        super().__init__(**kwargs)\n",
    "\n",
    "    def call(self, anchor, positive, negative):\n",
    "        ap_distance = tf.reduce_sum(tf.square(anchor - positive), -1)\n",
    "        an_distance = tf.reduce_sum(tf.square(anchor - negative), -1)\n",
    "        return (ap_distance, an_distance)"
   ]
  },
  {
   "cell_type": "code",
   "execution_count": 13,
   "metadata": {
    "executionInfo": {
     "elapsed": 2477,
     "status": "ok",
     "timestamp": 1677683216639,
     "user": {
      "displayName": "Hathi “danspi” Branco Wild",
      "userId": "03173318165689254341"
     },
     "user_tz": -60
    },
    "id": "xLpYIIVB8umU"
   },
   "outputs": [],
   "source": [
    "def get_siamese_network (input_shape = (120,120,3)):\n",
    "    embedding_model = get_encoder(input_shape)\n",
    "    input_anchor = tf.keras.layers.Input(shape= input_shape)\n",
    "    input_positive = tf.keras.layers.Input(shape= input_shape)\n",
    "    input_negative = tf.keras.layers.Input(shape= input_shape)\n",
    "    \n",
    "    embedding_anchor = embedding_model(resnet.preprocess_input(input_anchor))\n",
    "    embedding_positive = embedding_model(resnet.preprocess_input(input_positive))\n",
    "    embedding_negative = embedding_model(resnet.preprocess_input(input_negative))\n",
    "\n",
    "    #embedding_anchor = embedding_model(input_anchor)\n",
    "    #embedding_positive = embedding_model(input_positive)\n",
    "    #embedding_negative = embedding_model(input_negative)\n",
    "\n",
    "    distances = DistanceLayer()(\n",
    "    embedding_anchor ,\n",
    "    embedding_positive,\n",
    "    embedding_negative ,\n",
    "    )\n",
    "\n",
    "    siamese_network =  tf.keras.models.Model(\n",
    "    inputs=[input_anchor, input_positive, input_negative], outputs=distances\n",
    "    )\n",
    "    return siamese_network\n",
    "    \n",
    "siamese_network = get_siamese_network()  "
   ]
  },
  {
   "cell_type": "code",
   "execution_count": 14,
   "metadata": {
    "executionInfo": {
     "elapsed": 8,
     "status": "ok",
     "timestamp": 1677683216640,
     "user": {
      "displayName": "Hathi “danspi” Branco Wild",
      "userId": "03173318165689254341"
     },
     "user_tz": -60
    },
    "id": "QiNCCICl-TSs"
   },
   "outputs": [],
   "source": [
    "class SiameseModel(tf.keras.models.Model):\n",
    "    \"\"\"The Siamese Network model with a custom training and testing loops.\n",
    "\n",
    "    Computes the triplet loss using the three embeddings produced by the\n",
    "    Siamese Network.\n",
    "\n",
    "    The triplet loss is defined as:\n",
    "       L(A, P, N) = max(‖f(A) - f(P)‖² - ‖f(A) - f(N)‖² + margin, 0)\n",
    "    \"\"\"\n",
    "\n",
    "    def __init__(self, siamese_network, margin=0.5):\n",
    "        super().__init__()\n",
    "        self.siamese_network = siamese_network\n",
    "        self.margin = margin\n",
    "        self.loss_tracker = tf.keras.metrics.Mean(name=\"loss\")\n",
    "        self.acc_tracker =tf.keras.metrics.BinaryAccuracy(name =\"accuracy\")\n",
    "\n",
    "    def call(self, inputs):\n",
    "        return self.siamese_network(inputs)\n",
    "\n",
    "    def train_step(self, data):\n",
    "        # GradientTape is a context manager that records every operation that\n",
    "        # you do inside. We are using it here to compute the loss so we can get\n",
    "        # the gradients and apply them using the optimizer specified in\n",
    "        # `compile()`.\n",
    "        \n",
    "        with tf.GradientTape() as tape:\n",
    "            loss,acc = self._compute_loss(data)\n",
    "        # Storing the gradients of the loss function with respect to the\n",
    "        # weights/parameters.\n",
    "        gradients = tape.gradient(loss, self.siamese_network.trainable_weights)\n",
    "        # Applying the gradients on the model using the specified optimizer\n",
    "        self.optimizer.apply_gradients(\n",
    "            zip(gradients, self.siamese_network.trainable_weights)\n",
    "        )\n",
    "        # Let's update and return the training loss metric.\n",
    "        self.loss_tracker.update_state(loss)\n",
    "        self.acc_tracker.update_state((acc|True),acc)\n",
    "        return {\"loss\": self.loss_tracker.result(),\"acc\": self.acc_tracker.result()}\n",
    "\n",
    "    def test_step(self, data):\n",
    "        \n",
    "        loss,acc = self._compute_loss(data)\n",
    "\n",
    "        # Let's update and return the loss metric.\n",
    "        self.loss_tracker.update_state(loss)\n",
    "        self.acc_tracker.update_state((acc|True),acc)\n",
    "        return {\"loss\": self.loss_tracker.result(),\"acc\": self.acc_tracker.result()}\n",
    "\n",
    "    def _compute_loss(self, data):\n",
    "        # The output of the network is a tuple containing the distances\n",
    "        # between the anchor and the positive example, and the anchor and\n",
    "        # the negative example.\n",
    "        ap_distance, an_distance = self.siamese_network(data)\n",
    "\n",
    "        # Computing the Triplet Loss by subtracting both distances and\n",
    "        # making sure we don't get a negative value.\n",
    "        loss = ap_distance - an_distance\n",
    "        loss = tf.maximum(loss + self.margin, 0.0)\n",
    "        return loss, (ap_distance<an_distance)\n",
    "    @property\n",
    "    def metrics(self):\n",
    "        # We need to list our metrics here so the `reset_states()` can be\n",
    "        # called automatically.\n",
    "        return [self.loss_tracker,self.acc_tracker]"
   ]
  },
  {
   "cell_type": "code",
   "execution_count": 15,
   "metadata": {},
   "outputs": [],
   "source": [
    "siamese_model = SiameseModel(siamese_network)\n",
    "siamese_model.compile(optimizer=tf.keras.optimizers.Adam(0.0001), weighted_metrics=[])"
   ]
  },
  {
   "cell_type": "code",
   "execution_count": null,
   "metadata": {
    "colab": {
     "base_uri": "https://localhost:8080/"
    },
    "executionInfo": {
     "elapsed": 3217700,
     "status": "ok",
     "timestamp": 1677686434335,
     "user": {
      "displayName": "Hathi “danspi” Branco Wild",
      "userId": "03173318165689254341"
     },
     "user_tz": -60
    },
    "id": "PQeFNZa3-fJQ",
    "outputId": "d12c0e71-9968-4c0c-dee9-9f57da6683ad",
    "slideshow": {
     "slide_type": "-"
    }
   },
   "outputs": [
    {
     "name": "stdout",
     "output_type": "stream",
     "text": [
      "Epoch 1/10\n",
      "16/16 [==============================] - 187s 11s/step - loss: 0.4483 - acc: 0.5811 - val_loss: 0.4138 - val_acc: 0.6055\n",
      "Epoch 2/10\n",
      "16/16 [==============================] - 169s 11s/step - loss: 0.4158 - acc: 0.6195 - val_loss: 0.3312 - val_acc: 0.7070\n",
      "Epoch 3/10\n",
      " 5/16 [========>.....................] - ETA: 1:37 - loss: 0.4313 - acc: 0.6273"
     ]
    }
   ],
   "source": [
    "#history = siamese_model.fit(triplet_train, epochs=1, validation_data=triplet_val)\n",
    "\n",
    "# siccome uso un generator, la dimensione del dataset diventa potenzialmente infinita\n",
    "# devo definire a quanti batch corrisponde un'epoca -> steps per epoch, validation steps\n",
    "steps_train=int( x_train_len/batch_size )\n",
    "steps_val=int(x_val_len/batch_size)\n",
    "\n",
    "history = siamese_model.fit(\n",
    "    generatore_triplete_train,\n",
    "    steps_per_epoch=steps_train,\n",
    "    batch_size=batch_size,\n",
    "    epochs=10,\n",
    "    verbose=1,\n",
    "    validation_data=generatore_triplete_val,\n",
    "    validation_steps=steps_val,\n",
    "    \n",
    ")\n"
   ]
  },
  {
   "cell_type": "code",
   "execution_count": null,
   "metadata": {
    "colab": {
     "base_uri": "https://localhost:8080/",
     "height": 524
    },
    "executionInfo": {
     "elapsed": 5962,
     "status": "ok",
     "timestamp": 1677686440291,
     "user": {
      "displayName": "Hathi “danspi” Branco Wild",
      "userId": "03173318165689254341"
     },
     "user_tz": -60
    },
    "id": "3-V2JF8uwJjE",
    "outputId": "ef42d28c-f71b-4cc0-b6ca-e3ac7a092d78"
   },
   "outputs": [],
   "source": [
    "import matplotlib.pyplot as plt\n",
    "\n",
    "plt.plot(history.history['acc'])\n",
    "plt.plot(history.history['val_acc'])\n",
    "plt.plot(history.history['loss'])\n",
    "plt.plot(history.history['val_loss'])\n",
    "plt.title('model accuracy & loss')\n",
    "plt.ylabel('accuracy & loss')\n",
    "plt.xlabel('epoch')\n",
    "plt.legend(['acc train', 'acc test', 'loss train','loss test'], loc='upper left')\n",
    "plt.show()"
   ]
  },
  {
   "cell_type": "markdown",
   "metadata": {},
   "source": [
    "# Usare il modello allenato"
   ]
  },
  {
   "cell_type": "markdown",
   "metadata": {},
   "source": [
    "Runnare questa cella solo se non si ha il modello \"encoder\" salvato"
   ]
  },
  {
   "cell_type": "code",
   "execution_count": null,
   "metadata": {
    "colab": {
     "base_uri": "https://localhost:8080/"
    },
    "executionInfo": {
     "elapsed": 15,
     "status": "ok",
     "timestamp": 1677686440293,
     "user": {
      "displayName": "Hathi “danspi” Branco Wild",
      "userId": "03173318165689254341"
     },
     "user_tz": -60
    },
    "id": "zq3i8cK5TL-d",
    "outputId": "39cab78b-8789-49ff-8c6f-6eda0fe21c8f"
   },
   "outputs": [],
   "source": [
    "def exctract_embedding(model):\n",
    "    encoder=get_encoder((120,120,3))\n",
    "    i=0\n",
    "    for e_layer in model.layers[0].layers[9].layers:\n",
    "        layer_weight= e_layer.get_weights()\n",
    "        encoder.layers[i].set_weights(layer_weight)\n",
    "        i+=1\n",
    "    return encoder\n",
    "encoder=exctract_embedding(siamese_model)\n",
    "encoder.save_weights(\"encoder\")\n",
    "encoder.summary()"
   ]
  },
  {
   "cell_type": "markdown",
   "metadata": {
    "colab": {
     "base_uri": "https://localhost:8080/"
    },
    "id": "DGljr94hSLhu",
    "outputId": "3850ea9e-1154-45e8-a58e-3c7efb68c0f0"
   },
   "source": [
    "Runnare questa cella solo se si sono già calcolati i pesi per il modello \"encoder\""
   ]
  },
  {
   "cell_type": "code",
   "execution_count": null,
   "metadata": {},
   "outputs": [],
   "source": [
    "encoder=get_encoder((120,120,3))\n",
    "encoder.load_weights(\"encoder\")"
   ]
  },
  {
   "cell_type": "markdown",
   "metadata": {},
   "source": [
    "Data un immagine in ingresso, trovare quale immagine appartenente al training set sia la più vicina, e classificare l'immagine in base al graound truth dell'immagine più simile"
   ]
  },
  {
   "cell_type": "code",
   "execution_count": null,
   "metadata": {},
   "outputs": [],
   "source": [
    "#Calcolo per ogni immagine del training set l'output attraverso l'encode\n",
    "def makeX_Y_array (array):\n",
    "    \n",
    "    arrT=[] # array di immagini good e ok prese dal parametro 'array'. T sta per Tensor\n",
    "    y_arrT= [] # array contenente la classe in base all'immagine\n",
    "    y_levels=[] # y_levels[i] mi indica, per la classe i, l'indice in arrT relativo all'ultimo elemento\n",
    "                # appartenete a quella classe\n",
    "    previous=0\n",
    "\n",
    "    for index in range(len(class_names)):\n",
    "        #riempiamo arrT\n",
    "        arrT.extend(array[index][0]) # [i] indica la classe [j] indica la qualita [k] la foto singola\n",
    "        arrT.extend(array[index][1])\n",
    "\n",
    "        #riempiamo y_arrT\n",
    "        totLen=len(array[index][0])+len(array[index][1])\n",
    "        k=np.zeros(totLen)\n",
    "        k.fill(index)\n",
    "        y_arrT.extend(k)\n",
    "    \n",
    "        #riempiamo y_levels\n",
    "        y_levels.append(previous+totLen)\n",
    "        previous=y_levels[index]\n",
    "    \n",
    "    ###################dimezzo i vettori per la poca memoria, da togliere nella versione finale\n",
    "    #arrT = arrT[0:round(len(arrT)/2)]\n",
    "    #y_arrT = y_arrT[0:round(len(y_arrT)/2)]\n",
    "\n",
    "    #conversione in array tensor\n",
    "    #arrT= tf.data.Dataset.from_tensor_slices(arrT)\n",
    "    #y_arrT = tf.data.Dataset.from_tensor_slices (y_arrT)\n",
    "    \n",
    "    #divisione degli array in batch\n",
    "    #arrT=arrT.batch(32,drop_remainder=False)\n",
    "    #y_arrT=y_arrT.batch(32,drop_remainder=False)\n",
    "    \n",
    "    return arrT, y_arrT,y_levels"
   ]
  },
  {
   "cell_type": "code",
   "execution_count": null,
   "metadata": {},
   "outputs": [],
   "source": [
    "dt,y_train,y_levels = makeX_Y_array(x_train)"
   ]
  },
  {
   "cell_type": "code",
   "execution_count": null,
   "metadata": {},
   "outputs": [],
   "source": [
    "points=encoder.predict(dt)"
   ]
  },
  {
   "cell_type": "code",
   "execution_count": null,
   "metadata": {},
   "outputs": [],
   "source": [
    "def classify_images(tensor):\n",
    "    distance = tf.reduce_sum(tf.square(points - tensor), -1)\n",
    "    return distance\n",
    "\n",
    "def retrieve_label(tensor): \n",
    "    #visto che non è possibile fare y_train[tensore]\n",
    "    #per ritrovare la classe sottraggo il valore dell'immagine più vicina\n",
    "    #a y_levels che contiene l'indice dell'ultimo elemento della classe rispetto al dataset in ingresso\n",
    "    # successivamente trovo tutti i valori maggiori di 0 e ne faccio la somma.\n",
    "    a=tf.map_fn(lambda x :y_levels-x,tensor) \n",
    "    a=tf.cast(tf.math.greater_equal(a,0),tf.int32)  \n",
    "    a=tf.map_fn(tf.reduce_sum,a)\n",
    "    #sottraggo la somma con class names e ritrovo l'indice della classe\n",
    "    a= len(class_names)-a\n",
    "    return a\n",
    "\n",
    "class DistanceClassificationLayer(layers.Layer):\n",
    "    \"\"\"\n",
    "    This layer is responsible for computing the distance between the anchor\n",
    "    embedding and the positive embedding, and the anchor embedding and the\n",
    "    negative embedding.\n",
    "    \"\"\"\n",
    "\n",
    "    def __init__(self, **kwargs):\n",
    "        super().__init__(**kwargs)\n",
    "        self.points=points\n",
    "\n",
    "    def call(self, tensor):\n",
    "        #per ogni immagine vado a calcolare la distanza rispetto a tutti le foto del training set\n",
    "        predicts = tf.map_fn(classify_images,tensor)\n",
    "        predicts=tf.argmin(predicts,-1) #prendo l'indice dell'immagine rispetto al training set con la distanza minore\n",
    "        return retrieve_label(predicts) # ritrovo dall'indice la classe\n",
    "       \n",
    "    \n",
    "       \n",
    "evaluation_model=tf.keras.models.Sequential([encoder,DistanceClassificationLayer()]) "
   ]
  },
  {
   "cell_type": "markdown",
   "metadata": {},
   "source": [
    "Vado a creare un dataset dove (x_test, classi associata)"
   ]
  },
  {
   "cell_type": "code",
   "execution_count": null,
   "metadata": {},
   "outputs": [],
   "source": [
    "evaluate_dt,res,re_levels= makeX_Y_array(x_test)\n",
    "evaluate_dt= tf.data.Dataset.zip((evaluate_dt,res))"
   ]
  },
  {
   "cell_type": "code",
   "execution_count": null,
   "metadata": {},
   "outputs": [],
   "source": [
    "#evaluation_model.compile(\n",
    "#    optimizer='sgd',\n",
    "#    loss='mse',\n",
    "    #metrics=[tf.keras.metrics.TopKCategoricalAccuracy()],\n",
    "#)\n",
    "    \n",
    "evaluation_model.compile(metrics=[tf.keras.metrics.CategoricalAccuracy()]) # qui ci andrebbe il topK ma non funziona\n",
    "evaluation_model.summary()"
   ]
  },
  {
   "cell_type": "code",
   "execution_count": null,
   "metadata": {},
   "outputs": [],
   "source": [
    "evaluation_model.evaluate(evaluate_dt)"
   ]
  },
  {
   "cell_type": "code",
   "execution_count": null,
   "metadata": {},
   "outputs": [],
   "source": [
    "print(res)\n",
    "print(len(evaluate_dt), len(evaluate_dt[0]), len(evaluate_dt[0][0]), len(evaluate_dt[0][0][0]))"
   ]
  },
  {
   "cell_type": "code",
   "execution_count": null,
   "metadata": {},
   "outputs": [],
   "source": [
    "prova = evaluation_model.predict(evaluate_dt)"
   ]
  },
  {
   "cell_type": "code",
   "execution_count": null,
   "metadata": {},
   "outputs": [],
   "source": [
    "print(prova)"
   ]
  },
  {
   "cell_type": "code",
   "execution_count": null,
   "metadata": {},
   "outputs": [],
   "source": []
  }
 ],
 "metadata": {
  "accelerator": "TPU",
  "colab": {
   "collapsed_sections": [
    "Oziy1UvW7UPM",
    "YrGZaLez8Mzp",
    "663Kn89ArM2C",
    "RO9_mdQNg30A",
    "MwJhSXsz42Jf"
   ],
   "provenance": []
  },
  "gpuClass": "standard",
  "kernelspec": {
   "display_name": "Python 3 (ipykernel)",
   "language": "python",
   "name": "python3"
  },
  "language_info": {
   "codemirror_mode": {
    "name": "ipython",
    "version": 3
   },
   "file_extension": ".py",
   "mimetype": "text/x-python",
   "name": "python",
   "nbconvert_exporter": "python",
   "pygments_lexer": "ipython3",
   "version": "3.10.9"
  }
 },
 "nbformat": 4,
 "nbformat_minor": 4
}
